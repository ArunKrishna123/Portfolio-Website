{
 "cells": [
  {
   "cell_type": "code",
   "execution_count": 229,
   "id": "7faf8cb4",
   "metadata": {},
   "outputs": [],
   "source": [
    "# import libraries  \n",
    "import numpy as np\n",
    "import pandas as pd\n",
    "import matplotlib.pyplot as plt\n",
    "from collections import Counter\n",
    "import nltk\n",
    "import re\n",
    "from nltk.corpus import stopwords\n",
    "from nltk import word_tokenize\n",
    "import string\n",
    "from sklearn.model_selection import train_test_split\n",
    "from sklearn.feature_extraction.text import CountVectorizer, TfidfVectorizer\n",
    "from sklearn.metrics import accuracy_score\n",
    "\n",
    "\n",
    "\n",
    "\n",
    "# Ignore warning\n",
    "import warnings\n",
    "warnings.filterwarnings(\"ignore\",category=DeprecationWarning)"
   ]
  },
  {
   "cell_type": "code",
   "execution_count": 230,
   "id": "3ccdc658",
   "metadata": {},
   "outputs": [
    {
     "data": {
      "text/html": [
       "<div>\n",
       "<style scoped>\n",
       "    .dataframe tbody tr th:only-of-type {\n",
       "        vertical-align: middle;\n",
       "    }\n",
       "\n",
       "    .dataframe tbody tr th {\n",
       "        vertical-align: top;\n",
       "    }\n",
       "\n",
       "    .dataframe thead th {\n",
       "        text-align: right;\n",
       "    }\n",
       "</style>\n",
       "<table border=\"1\" class=\"dataframe\">\n",
       "  <thead>\n",
       "    <tr style=\"text-align: right;\">\n",
       "      <th></th>\n",
       "      <th>product_id</th>\n",
       "      <th>product_title</th>\n",
       "      <th>rating</th>\n",
       "      <th>summary</th>\n",
       "      <th>review</th>\n",
       "      <th>location</th>\n",
       "      <th>date</th>\n",
       "      <th>upvotes</th>\n",
       "      <th>downvotes</th>\n",
       "    </tr>\n",
       "  </thead>\n",
       "  <tbody>\n",
       "    <tr>\n",
       "      <th>0</th>\n",
       "      <td>ACCFZGAQJGYCYDCM</td>\n",
       "      <td>BoAt Rockerz 235v2 with ASAP charging Version ...</td>\n",
       "      <td>5</td>\n",
       "      <td>Terrific purchase</td>\n",
       "      <td>1-more flexible2-bass is very high3-sound clar...</td>\n",
       "      <td>Shirala</td>\n",
       "      <td>8 months ago</td>\n",
       "      <td>1390</td>\n",
       "      <td>276</td>\n",
       "    </tr>\n",
       "    <tr>\n",
       "      <th>1</th>\n",
       "      <td>ACCFZGAQJGYCYDCM</td>\n",
       "      <td>BoAt Rockerz 235v2 with ASAP charging Version ...</td>\n",
       "      <td>5</td>\n",
       "      <td>Terrific purchase</td>\n",
       "      <td>Super sound and good looking I like that prize</td>\n",
       "      <td>Visakhapatnam</td>\n",
       "      <td>8 months ago</td>\n",
       "      <td>643</td>\n",
       "      <td>133</td>\n",
       "    </tr>\n",
       "    <tr>\n",
       "      <th>2</th>\n",
       "      <td>ACCFZGAQJGYCYDCM</td>\n",
       "      <td>BoAt Rockerz 235v2 with ASAP charging Version ...</td>\n",
       "      <td>5</td>\n",
       "      <td>Super!</td>\n",
       "      <td>Very much satisfied with the device at this pr...</td>\n",
       "      <td>Kozhikode</td>\n",
       "      <td>Feb, 2020</td>\n",
       "      <td>1449</td>\n",
       "      <td>328</td>\n",
       "    </tr>\n",
       "    <tr>\n",
       "      <th>3</th>\n",
       "      <td>ACCFZGAQJGYCYDCM</td>\n",
       "      <td>BoAt Rockerz 235v2 with ASAP charging Version ...</td>\n",
       "      <td>5</td>\n",
       "      <td>Super!</td>\n",
       "      <td>Nice headphone, bass was very good and sound i...</td>\n",
       "      <td>Jaora</td>\n",
       "      <td>7 months ago</td>\n",
       "      <td>160</td>\n",
       "      <td>28</td>\n",
       "    </tr>\n",
       "    <tr>\n",
       "      <th>4</th>\n",
       "      <td>ACCFZGAQJGYCYDCM</td>\n",
       "      <td>BoAt Rockerz 235v2 with ASAP charging Version ...</td>\n",
       "      <td>5</td>\n",
       "      <td>Terrific purchase</td>\n",
       "      <td>Sound quality super battery backup super quali...</td>\n",
       "      <td>New Delhi</td>\n",
       "      <td>8 months ago</td>\n",
       "      <td>533</td>\n",
       "      <td>114</td>\n",
       "    </tr>\n",
       "    <tr>\n",
       "      <th>...</th>\n",
       "      <td>...</td>\n",
       "      <td>...</td>\n",
       "      <td>...</td>\n",
       "      <td>...</td>\n",
       "      <td>...</td>\n",
       "      <td>...</td>\n",
       "      <td>...</td>\n",
       "      <td>...</td>\n",
       "      <td>...</td>\n",
       "    </tr>\n",
       "    <tr>\n",
       "      <th>9369</th>\n",
       "      <td>ACCEVQZABYWJHRHF</td>\n",
       "      <td>BoAt BassHeads 100 Wired Headset</td>\n",
       "      <td>4</td>\n",
       "      <td>Good quality product</td>\n",
       "      <td>this head phnes give good base in pluged ears ...</td>\n",
       "      <td>Bhimavaram</td>\n",
       "      <td>Apr, 2018</td>\n",
       "      <td>0</td>\n",
       "      <td>0</td>\n",
       "    </tr>\n",
       "    <tr>\n",
       "      <th>9370</th>\n",
       "      <td>ACCEVQZABYWJHRHF</td>\n",
       "      <td>BoAt BassHeads 100 Wired Headset</td>\n",
       "      <td>5</td>\n",
       "      <td>Awesome</td>\n",
       "      <td>This so far is one of the best headphones I've...</td>\n",
       "      <td>Ettimadai</td>\n",
       "      <td>Apr, 2018</td>\n",
       "      <td>0</td>\n",
       "      <td>0</td>\n",
       "    </tr>\n",
       "    <tr>\n",
       "      <th>9371</th>\n",
       "      <td>ACCEVQZABYWJHRHF</td>\n",
       "      <td>BoAt BassHeads 100 Wired Headset</td>\n",
       "      <td>4</td>\n",
       "      <td>Really Nice</td>\n",
       "      <td>I am a BASS LOVER and all others like me read ...</td>\n",
       "      <td>Guntur District</td>\n",
       "      <td>Apr, 2018</td>\n",
       "      <td>0</td>\n",
       "      <td>0</td>\n",
       "    </tr>\n",
       "    <tr>\n",
       "      <th>9372</th>\n",
       "      <td>ACCEVQZABYWJHRHF</td>\n",
       "      <td>BoAt BassHeads 100 Wired Headset</td>\n",
       "      <td>5</td>\n",
       "      <td>Super!</td>\n",
       "      <td>After use of one month........ It is an excell...</td>\n",
       "      <td>Kothamangalam</td>\n",
       "      <td>Apr, 2018</td>\n",
       "      <td>0</td>\n",
       "      <td>0</td>\n",
       "    </tr>\n",
       "    <tr>\n",
       "      <th>9373</th>\n",
       "      <td>ACCEVQZABYWJHRHF</td>\n",
       "      <td>BoAt BassHeads 100 Wired Headset</td>\n",
       "      <td>5</td>\n",
       "      <td>Fabulous!</td>\n",
       "      <td>Excellent quality. it works so good. super hap...</td>\n",
       "      <td>Rampur</td>\n",
       "      <td>Apr, 2018</td>\n",
       "      <td>0</td>\n",
       "      <td>0</td>\n",
       "    </tr>\n",
       "  </tbody>\n",
       "</table>\n",
       "<p>9374 rows × 9 columns</p>\n",
       "</div>"
      ],
      "text/plain": [
       "            product_id                                      product_title  \\\n",
       "0     ACCFZGAQJGYCYDCM  BoAt Rockerz 235v2 with ASAP charging Version ...   \n",
       "1     ACCFZGAQJGYCYDCM  BoAt Rockerz 235v2 with ASAP charging Version ...   \n",
       "2     ACCFZGAQJGYCYDCM  BoAt Rockerz 235v2 with ASAP charging Version ...   \n",
       "3     ACCFZGAQJGYCYDCM  BoAt Rockerz 235v2 with ASAP charging Version ...   \n",
       "4     ACCFZGAQJGYCYDCM  BoAt Rockerz 235v2 with ASAP charging Version ...   \n",
       "...                ...                                                ...   \n",
       "9369  ACCEVQZABYWJHRHF                   BoAt BassHeads 100 Wired Headset   \n",
       "9370  ACCEVQZABYWJHRHF                   BoAt BassHeads 100 Wired Headset   \n",
       "9371  ACCEVQZABYWJHRHF                   BoAt BassHeads 100 Wired Headset   \n",
       "9372  ACCEVQZABYWJHRHF                   BoAt BassHeads 100 Wired Headset   \n",
       "9373  ACCEVQZABYWJHRHF                   BoAt BassHeads 100 Wired Headset   \n",
       "\n",
       "      rating               summary  \\\n",
       "0          5     Terrific purchase   \n",
       "1          5     Terrific purchase   \n",
       "2          5                Super!   \n",
       "3          5                Super!   \n",
       "4          5     Terrific purchase   \n",
       "...      ...                   ...   \n",
       "9369       4  Good quality product   \n",
       "9370       5               Awesome   \n",
       "9371       4           Really Nice   \n",
       "9372       5                Super!   \n",
       "9373       5             Fabulous!   \n",
       "\n",
       "                                                 review         location  \\\n",
       "0     1-more flexible2-bass is very high3-sound clar...          Shirala   \n",
       "1        Super sound and good looking I like that prize    Visakhapatnam   \n",
       "2     Very much satisfied with the device at this pr...        Kozhikode   \n",
       "3     Nice headphone, bass was very good and sound i...            Jaora   \n",
       "4     Sound quality super battery backup super quali...        New Delhi   \n",
       "...                                                 ...              ...   \n",
       "9369  this head phnes give good base in pluged ears ...       Bhimavaram   \n",
       "9370  This so far is one of the best headphones I've...        Ettimadai   \n",
       "9371  I am a BASS LOVER and all others like me read ...  Guntur District   \n",
       "9372  After use of one month........ It is an excell...    Kothamangalam   \n",
       "9373  Excellent quality. it works so good. super hap...           Rampur   \n",
       "\n",
       "              date  upvotes  downvotes  \n",
       "0     8 months ago     1390        276  \n",
       "1     8 months ago      643        133  \n",
       "2        Feb, 2020     1449        328  \n",
       "3     7 months ago      160         28  \n",
       "4     8 months ago      533        114  \n",
       "...            ...      ...        ...  \n",
       "9369     Apr, 2018        0          0  \n",
       "9370     Apr, 2018        0          0  \n",
       "9371     Apr, 2018        0          0  \n",
       "9372     Apr, 2018        0          0  \n",
       "9373     Apr, 2018        0          0  \n",
       "\n",
       "[9374 rows x 9 columns]"
      ]
     },
     "execution_count": 230,
     "metadata": {},
     "output_type": "execute_result"
    }
   ],
   "source": [
    "trainingdataset = pd.read_csv('C:/Users/ganug/Flipkart_Reviews - Electronics.csv')\n",
    "trainingdataset"
   ]
  },
  {
   "cell_type": "code",
   "execution_count": 231,
   "id": "5cc2f4cb",
   "metadata": {},
   "outputs": [
    {
     "data": {
      "text/html": [
       "<div>\n",
       "<style scoped>\n",
       "    .dataframe tbody tr th:only-of-type {\n",
       "        vertical-align: middle;\n",
       "    }\n",
       "\n",
       "    .dataframe tbody tr th {\n",
       "        vertical-align: top;\n",
       "    }\n",
       "\n",
       "    .dataframe thead th {\n",
       "        text-align: right;\n",
       "    }\n",
       "</style>\n",
       "<table border=\"1\" class=\"dataframe\">\n",
       "  <thead>\n",
       "    <tr style=\"text-align: right;\">\n",
       "      <th></th>\n",
       "      <th>rating</th>\n",
       "      <th>review</th>\n",
       "    </tr>\n",
       "  </thead>\n",
       "  <tbody>\n",
       "    <tr>\n",
       "      <th>0</th>\n",
       "      <td>5</td>\n",
       "      <td>1-more flexible2-bass is very high3-sound clar...</td>\n",
       "    </tr>\n",
       "    <tr>\n",
       "      <th>1</th>\n",
       "      <td>5</td>\n",
       "      <td>Super sound and good looking I like that prize</td>\n",
       "    </tr>\n",
       "    <tr>\n",
       "      <th>2</th>\n",
       "      <td>5</td>\n",
       "      <td>Very much satisfied with the device at this pr...</td>\n",
       "    </tr>\n",
       "    <tr>\n",
       "      <th>3</th>\n",
       "      <td>5</td>\n",
       "      <td>Nice headphone, bass was very good and sound i...</td>\n",
       "    </tr>\n",
       "    <tr>\n",
       "      <th>4</th>\n",
       "      <td>5</td>\n",
       "      <td>Sound quality super battery backup super quali...</td>\n",
       "    </tr>\n",
       "    <tr>\n",
       "      <th>...</th>\n",
       "      <td>...</td>\n",
       "      <td>...</td>\n",
       "    </tr>\n",
       "    <tr>\n",
       "      <th>9369</th>\n",
       "      <td>4</td>\n",
       "      <td>this head phnes give good base in pluged ears ...</td>\n",
       "    </tr>\n",
       "    <tr>\n",
       "      <th>9370</th>\n",
       "      <td>5</td>\n",
       "      <td>This so far is one of the best headphones I've...</td>\n",
       "    </tr>\n",
       "    <tr>\n",
       "      <th>9371</th>\n",
       "      <td>4</td>\n",
       "      <td>I am a BASS LOVER and all others like me read ...</td>\n",
       "    </tr>\n",
       "    <tr>\n",
       "      <th>9372</th>\n",
       "      <td>5</td>\n",
       "      <td>After use of one month........ It is an excell...</td>\n",
       "    </tr>\n",
       "    <tr>\n",
       "      <th>9373</th>\n",
       "      <td>5</td>\n",
       "      <td>Excellent quality. it works so good. super hap...</td>\n",
       "    </tr>\n",
       "  </tbody>\n",
       "</table>\n",
       "<p>9374 rows × 2 columns</p>\n",
       "</div>"
      ],
      "text/plain": [
       "      rating                                             review\n",
       "0          5  1-more flexible2-bass is very high3-sound clar...\n",
       "1          5     Super sound and good looking I like that prize\n",
       "2          5  Very much satisfied with the device at this pr...\n",
       "3          5  Nice headphone, bass was very good and sound i...\n",
       "4          5  Sound quality super battery backup super quali...\n",
       "...      ...                                                ...\n",
       "9369       4  this head phnes give good base in pluged ears ...\n",
       "9370       5  This so far is one of the best headphones I've...\n",
       "9371       4  I am a BASS LOVER and all others like me read ...\n",
       "9372       5  After use of one month........ It is an excell...\n",
       "9373       5  Excellent quality. it works so good. super hap...\n",
       "\n",
       "[9374 rows x 2 columns]"
      ]
     },
     "execution_count": 231,
     "metadata": {},
     "output_type": "execute_result"
    }
   ],
   "source": [
    "togetspecificcolumns = trainingdataset.columns\n",
    "dataset = trainingdataset[togetspecificcolumns.drop(['product_id','product_title','summary','location','date','upvotes','downvotes'])]\n",
    "dataset"
   ]
  },
  {
   "cell_type": "code",
   "execution_count": 232,
   "id": "689834a3",
   "metadata": {},
   "outputs": [
    {
     "data": {
      "text/plain": [
       "5"
      ]
     },
     "execution_count": 232,
     "metadata": {},
     "output_type": "execute_result"
    }
   ],
   "source": [
    "dataset['rating'].nunique()"
   ]
  },
  {
   "cell_type": "code",
   "execution_count": 233,
   "id": "648330a9",
   "metadata": {},
   "outputs": [],
   "source": [
    "type=[]\n",
    "for a in train['rating']:\n",
    "    if a not in type:\n",
    "        type.append(a)"
   ]
  },
  {
   "cell_type": "code",
   "execution_count": 234,
   "id": "e33c4fd0",
   "metadata": {},
   "outputs": [
    {
     "name": "stdout",
     "output_type": "stream",
     "text": [
      "[1] 5\n",
      "[2] 4\n",
      "[3] 1\n",
      "[4] 3\n",
      "[5] 2\n"
     ]
    }
   ],
   "source": [
    "l=1\n",
    "for m in type:\n",
    "    print([l],m)\n",
    "    l+=1"
   ]
  },
  {
   "cell_type": "code",
   "execution_count": 235,
   "id": "03c2c53b",
   "metadata": {},
   "outputs": [
    {
     "data": {
      "image/png": "[encoded data removed]",
      "text/plain": [
       "<Figure size 1440x720 with 1 Axes>"
      ]
     },
     "metadata": {},
     "output_type": "display_data"
    }
   ],
   "source": [
    "plt.figure(figsize=(20,10))\n",
    "train['rating'].value_counts().apply(np.log).plot(kind='pie',autopct='%1.1f%%')\n",
    "plt.show()"
   ]
  },
  {
   "cell_type": "code",
   "execution_count": 236,
   "id": "93f571b0",
   "metadata": {},
   "outputs": [
    {
     "data": {
      "text/plain": [
       "Counter({5: 5395, 4: 1959, 1: 1090, 3: 622, 2: 308})"
      ]
     },
     "execution_count": 236,
     "metadata": {},
     "output_type": "execute_result"
    }
   ],
   "source": [
    "A=train[\"rating\"].values\n",
    "Counter(A)"
   ]
  },
  {
   "cell_type": "code",
   "execution_count": 237,
   "id": "e296b541",
   "metadata": {},
   "outputs": [],
   "source": [
    "StopWords = nltk.corpus.stopwords.words('english')"
   ]
  },
  {
   "cell_type": "code",
   "execution_count": 238,
   "id": "fbb2a69b",
   "metadata": {},
   "outputs": [],
   "source": [
    "alist=\"\"; counteachword = {}; characteristics=[]; listofthewords=[]\n",
    "combinedsentence = str(train['review'])\n",
    "nonalphanumeric=re.sub(r'[^w'+alist+']', ' ',combinedsentence)\n",
    "for ch in range(ord('a'), ord('z')+1):\n",
    "      characteristics.append(chr(ch))\n",
    "for cha in range(ord('A'), ord('Z')+1):\n",
    "      characteristics.append(chr(cha))\n",
    "for G in type:\n",
    "    for i in train.query('rating==@G')['review']:\n",
    "        C=word_tokenize(str(i))\n",
    "        for j in C:\n",
    "            if j not in StopWords and j not in nonalphanumeric and j not in characteristics and len(j)>=3:\n",
    "                if j[0] in nonalphanumeric and j[-1] in nonalphanumeric:\n",
    "                    listofthewords.append(j[1:-1].lower())\n",
    "                elif j[0] in nonalphanumeric and j[-1] not in nonalphanumeric:\n",
    "                    listofthewords.append(j[1:].lower())\n",
    "                elif j[-1] in nonalphanumeric and j[0] not in nonalphanumeric:\n",
    "                    listofthewords.append(j[:-1].lower())\n",
    "                else:\n",
    "                    listofthewords.append(j.lower())\n",
    "    counteachword[G]=Counter(listofthewords)"
   ]
  },
  {
   "cell_type": "code",
   "execution_count": 239,
   "id": "17919182",
   "metadata": {},
   "outputs": [
    {
     "data": {
      "text/html": [
       "<div>\n",
       "<style scoped>\n",
       "    .dataframe tbody tr th:only-of-type {\n",
       "        vertical-align: middle;\n",
       "    }\n",
       "\n",
       "    .dataframe tbody tr th {\n",
       "        vertical-align: top;\n",
       "    }\n",
       "\n",
       "    .dataframe thead th {\n",
       "        text-align: right;\n",
       "    }\n",
       "</style>\n",
       "<table border=\"1\" class=\"dataframe\">\n",
       "  <thead>\n",
       "    <tr style=\"text-align: right;\">\n",
       "      <th></th>\n",
       "      <th>5</th>\n",
       "      <th>4</th>\n",
       "      <th>1</th>\n",
       "      <th>3</th>\n",
       "      <th>2</th>\n",
       "    </tr>\n",
       "  </thead>\n",
       "  <tbody>\n",
       "    <tr>\n",
       "      <th>flexiblebass</th>\n",
       "      <td>2.0</td>\n",
       "      <td>2.0</td>\n",
       "      <td>2.0</td>\n",
       "      <td>2.0</td>\n",
       "      <td>2</td>\n",
       "    </tr>\n",
       "    <tr>\n",
       "      <th>highsound</th>\n",
       "      <td>2.0</td>\n",
       "      <td>2.0</td>\n",
       "      <td>2.0</td>\n",
       "      <td>2.0</td>\n",
       "      <td>2</td>\n",
       "    </tr>\n",
       "    <tr>\n",
       "      <th>clarity</th>\n",
       "      <td>137.0</td>\n",
       "      <td>202.0</td>\n",
       "      <td>211.0</td>\n",
       "      <td>224.0</td>\n",
       "      <td>233</td>\n",
       "    </tr>\n",
       "    <tr>\n",
       "      <th>good</th>\n",
       "      <td>3195.0</td>\n",
       "      <td>4896.0</td>\n",
       "      <td>5089.0</td>\n",
       "      <td>5577.0</td>\n",
       "      <td>5685</td>\n",
       "    </tr>\n",
       "    <tr>\n",
       "      <th>battery</th>\n",
       "      <td>950.0</td>\n",
       "      <td>1302.0</td>\n",
       "      <td>1367.0</td>\n",
       "      <td>1464.0</td>\n",
       "      <td>1509</td>\n",
       "    </tr>\n",
       "    <tr>\n",
       "      <th>...</th>\n",
       "      <td>...</td>\n",
       "      <td>...</td>\n",
       "      <td>...</td>\n",
       "      <td>...</td>\n",
       "      <td>...</td>\n",
       "    </tr>\n",
       "    <tr>\n",
       "      <th>comfortablethe</th>\n",
       "      <td>0.0</td>\n",
       "      <td>0.0</td>\n",
       "      <td>0.0</td>\n",
       "      <td>0.0</td>\n",
       "      <td>1</td>\n",
       "    </tr>\n",
       "    <tr>\n",
       "      <th>horriblevoice</th>\n",
       "      <td>0.0</td>\n",
       "      <td>0.0</td>\n",
       "      <td>0.0</td>\n",
       "      <td>0.0</td>\n",
       "      <td>1</td>\n",
       "    </tr>\n",
       "    <tr>\n",
       "      <th>basscons</th>\n",
       "      <td>0.0</td>\n",
       "      <td>0.0</td>\n",
       "      <td>0.0</td>\n",
       "      <td>0.0</td>\n",
       "      <td>1</td>\n",
       "    </tr>\n",
       "    <tr>\n",
       "      <th>locationconclusionif</th>\n",
       "      <td>0.0</td>\n",
       "      <td>0.0</td>\n",
       "      <td>0.0</td>\n",
       "      <td>0.0</td>\n",
       "      <td>1</td>\n",
       "    </tr>\n",
       "    <tr>\n",
       "      <th>pur</th>\n",
       "      <td>0.0</td>\n",
       "      <td>0.0</td>\n",
       "      <td>0.0</td>\n",
       "      <td>0.0</td>\n",
       "      <td>1</td>\n",
       "    </tr>\n",
       "  </tbody>\n",
       "</table>\n",
       "<p>9585 rows × 5 columns</p>\n",
       "</div>"
      ],
      "text/plain": [
       "                           5       4       1       3     2\n",
       "flexiblebass             2.0     2.0     2.0     2.0     2\n",
       "highsound                2.0     2.0     2.0     2.0     2\n",
       "clarity                137.0   202.0   211.0   224.0   233\n",
       "good                  3195.0  4896.0  5089.0  5577.0  5685\n",
       "battery                950.0  1302.0  1367.0  1464.0  1509\n",
       "...                      ...     ...     ...     ...   ...\n",
       "comfortablethe           0.0     0.0     0.0     0.0     1\n",
       "horriblevoice            0.0     0.0     0.0     0.0     1\n",
       "basscons                 0.0     0.0     0.0     0.0     1\n",
       "locationconclusionif     0.0     0.0     0.0     0.0     1\n",
       "pur                      0.0     0.0     0.0     0.0     1\n",
       "\n",
       "[9585 rows x 5 columns]"
      ]
     },
     "execution_count": 239,
     "metadata": {},
     "output_type": "execute_result"
    }
   ],
   "source": [
    "counteachword = pd.DataFrame(counteachword)\n",
    "counteachword = counteachword.fillna(0)\n",
    "counteachword"
   ]
  },
  {
   "cell_type": "code",
   "execution_count": 240,
   "id": "82851d1c",
   "metadata": {},
   "outputs": [],
   "source": [
    "stop_words = set(stopwords.words('english'))\n",
    "train=dataset"
   ]
  },
  {
   "cell_type": "code",
   "execution_count": 241,
   "id": "1b480d3d",
   "metadata": {},
   "outputs": [
    {
     "data": {
      "text/html": [
       "<div>\n",
       "<style scoped>\n",
       "    .dataframe tbody tr th:only-of-type {\n",
       "        vertical-align: middle;\n",
       "    }\n",
       "\n",
       "    .dataframe tbody tr th {\n",
       "        vertical-align: top;\n",
       "    }\n",
       "\n",
       "    .dataframe thead th {\n",
       "        text-align: right;\n",
       "    }\n",
       "</style>\n",
       "<table border=\"1\" class=\"dataframe\">\n",
       "  <thead>\n",
       "    <tr style=\"text-align: right;\">\n",
       "      <th></th>\n",
       "      <th>rating</th>\n",
       "      <th>review</th>\n",
       "    </tr>\n",
       "  </thead>\n",
       "  <tbody>\n",
       "    <tr>\n",
       "      <th>0</th>\n",
       "      <td>5</td>\n",
       "      <td>1-more flexible2-bass is very high3-sound clar...</td>\n",
       "    </tr>\n",
       "    <tr>\n",
       "      <th>1</th>\n",
       "      <td>5</td>\n",
       "      <td>Super sound and good looking I like that prize</td>\n",
       "    </tr>\n",
       "    <tr>\n",
       "      <th>2</th>\n",
       "      <td>5</td>\n",
       "      <td>Very much satisfied with the device at this pr...</td>\n",
       "    </tr>\n",
       "    <tr>\n",
       "      <th>3</th>\n",
       "      <td>5</td>\n",
       "      <td>Nice headphone, bass was very good and sound i...</td>\n",
       "    </tr>\n",
       "    <tr>\n",
       "      <th>4</th>\n",
       "      <td>5</td>\n",
       "      <td>Sound quality super battery backup super quali...</td>\n",
       "    </tr>\n",
       "    <tr>\n",
       "      <th>...</th>\n",
       "      <td>...</td>\n",
       "      <td>...</td>\n",
       "    </tr>\n",
       "    <tr>\n",
       "      <th>9369</th>\n",
       "      <td>4</td>\n",
       "      <td>this head phnes give good base in pluged ears ...</td>\n",
       "    </tr>\n",
       "    <tr>\n",
       "      <th>9370</th>\n",
       "      <td>5</td>\n",
       "      <td>This so far is one of the best headphones I've...</td>\n",
       "    </tr>\n",
       "    <tr>\n",
       "      <th>9371</th>\n",
       "      <td>4</td>\n",
       "      <td>I am a BASS LOVER and all others like me read ...</td>\n",
       "    </tr>\n",
       "    <tr>\n",
       "      <th>9372</th>\n",
       "      <td>5</td>\n",
       "      <td>After use of one month........ It is an excell...</td>\n",
       "    </tr>\n",
       "    <tr>\n",
       "      <th>9373</th>\n",
       "      <td>5</td>\n",
       "      <td>Excellent quality. it works so good. super hap...</td>\n",
       "    </tr>\n",
       "  </tbody>\n",
       "</table>\n",
       "<p>9374 rows × 2 columns</p>\n",
       "</div>"
      ],
      "text/plain": [
       "      rating                                             review\n",
       "0          5  1-more flexible2-bass is very high3-sound clar...\n",
       "1          5     Super sound and good looking I like that prize\n",
       "2          5  Very much satisfied with the device at this pr...\n",
       "3          5  Nice headphone, bass was very good and sound i...\n",
       "4          5  Sound quality super battery backup super quali...\n",
       "...      ...                                                ...\n",
       "9369       4  this head phnes give good base in pluged ears ...\n",
       "9370       5  This so far is one of the best headphones I've...\n",
       "9371       4  I am a BASS LOVER and all others like me read ...\n",
       "9372       5  After use of one month........ It is an excell...\n",
       "9373       5  Excellent quality. it works so good. super hap...\n",
       "\n",
       "[9374 rows x 2 columns]"
      ]
     },
     "execution_count": 241,
     "metadata": {},
     "output_type": "execute_result"
    }
   ],
   "source": [
    "train"
   ]
  },
  {
   "cell_type": "code",
   "execution_count": 242,
   "id": "5229e7ae",
   "metadata": {},
   "outputs": [],
   "source": [
    "def remove_stopwords(line):\n",
    "    word_tokens = word_tokenize(line)\n",
    "    filtered_sentence = [w for w in word_tokens if not w in stop_words] \n",
    "    return \" \".join(filtered_sentence)"
   ]
  },
  {
   "cell_type": "code",
   "execution_count": 243,
   "id": "0a77de51",
   "metadata": {},
   "outputs": [],
   "source": [
    "def preprocess(line):\n",
    "    line = line.lower()  #convert to lowercase\n",
    "    line = re.sub(r'\\d+', '', line)  #remove numbers\n",
    "    line = line.translate(line.maketrans(\"\",\"\", string.punctuation))  #remove punctuation\n",
    "#     line = line.translate(None, string.punctuation)  #remove punctuation\n",
    "    line = re.sub(r'[^A-Za-z0-9 ]+', '', line)\n",
    "    line = remove_stopwords(line)\n",
    "    return line"
   ]
  },
  {
   "cell_type": "code",
   "execution_count": 244,
   "id": "7f601c0d",
   "metadata": {},
   "outputs": [
    {
     "name": "stderr",
     "output_type": "stream",
     "text": [
      "C:\\Users\\ganug\\AppData\\Local\\Temp/ipykernel_10420/4259225570.py:2: SettingWithCopyWarning: \n",
      "A value is trying to be set on a copy of a slice from a DataFrame\n",
      "\n",
      "See the caveats in the documentation: https://pandas.pydata.org/pandas-docs/stable/user_guide/indexing.html#returning-a-view-versus-a-copy\n",
      "  train.review[i] = preprocess(line)\n"
     ]
    }
   ],
   "source": [
    "for i,line in enumerate(train.review):\n",
    "    train.review[i] = preprocess(line)"
   ]
  },
  {
   "cell_type": "code",
   "execution_count": 245,
   "id": "a69d97a6",
   "metadata": {},
   "outputs": [
    {
     "data": {
      "text/plain": [
       "[('good', 5685),\n",
       " ('quality', 4048),\n",
       " ('sound', 3520),\n",
       " ('product', 3414),\n",
       " ('bass', 2754),\n",
       " ('nice', 1608),\n",
       " ('best', 1594),\n",
       " ('battery', 1509),\n",
       " ('price', 1490),\n",
       " ('awesome', 1184)]"
      ]
     },
     "execution_count": 245,
     "metadata": {},
     "output_type": "execute_result"
    }
   ],
   "source": [
    "count = Counter()\n",
    "for sent in train[\"review\"].to_numpy():\n",
    "    for word in sent.split():\n",
    "        count[word] += 1\n",
    "        \n",
    "count.most_common(10)"
   ]
  },
  {
   "cell_type": "code",
   "execution_count": 246,
   "id": "65446e63",
   "metadata": {},
   "outputs": [
    {
     "data": {
      "text/plain": [
       "8262"
      ]
     },
     "execution_count": 246,
     "metadata": {},
     "output_type": "execute_result"
    }
   ],
   "source": [
    "rare_words = []\n",
    "for word,freq in count.most_common():\n",
    "    if(freq<=5):\n",
    "        rare_words.append(word)\n",
    "len(rare_words)"
   ]
  },
  {
   "cell_type": "code",
   "execution_count": 247,
   "id": "a08442ad",
   "metadata": {},
   "outputs": [
    {
     "data": {
      "text/plain": [
       "['wowwww',\n",
       " 'clip',\n",
       " 'activity',\n",
       " 'self',\n",
       " 'wast',\n",
       " 'pm',\n",
       " 'flagship',\n",
       " 'ver',\n",
       " 'serious',\n",
       " 'youve',\n",
       " 'workouts',\n",
       " 'tis',\n",
       " 'advise',\n",
       " 'supporting',\n",
       " 'buyed',\n",
       " 'meant',\n",
       " 'delayed',\n",
       " 'isolation',\n",
       " 'hve',\n",
       " 'manage']"
      ]
     },
     "execution_count": 247,
     "metadata": {},
     "output_type": "execute_result"
    }
   ],
   "source": [
    "rare_words[:20]"
   ]
  },
  {
   "cell_type": "code",
   "execution_count": 248,
   "id": "3b002796",
   "metadata": {},
   "outputs": [],
   "source": [
    "X = train.iloc[:, -1]\n",
    "y = train.iloc[:, 0]\n",
    "X_train, X_test, y_train, y_test = train_test_split(X, y, test_size=0.3,  random_state=0)"
   ]
  },
  {
   "cell_type": "code",
   "execution_count": 249,
   "id": "0b98cc94",
   "metadata": {},
   "outputs": [
    {
     "data": {
      "text/plain": [
       "976     using portronics harmonics many research found...\n",
       "7115                                                 good\n",
       "6543    purchased blutooth earphone laptop mobile toge...\n",
       "6876                                          value money\n",
       "607                     nice bass nice sound nice collety\n",
       "                              ...                        \n",
       "7891               sound quality poorlike local headphone\n",
       "9225    best thing earphone perfectly fits ear sound q...\n",
       "4859    sound build pretty good touch control working ...\n",
       "3264    great built quality recommended best buy trust...\n",
       "2732    wounderful online class also good listening so...\n",
       "Name: review, Length: 6561, dtype: object"
      ]
     },
     "execution_count": 249,
     "metadata": {},
     "output_type": "execute_result"
    }
   ],
   "source": [
    "X_train"
   ]
  },
  {
   "cell_type": "code",
   "execution_count": 287,
   "id": "c75a46e5",
   "metadata": {},
   "outputs": [
    {
     "data": {
      "text/plain": [
       "976     4\n",
       "7115    3\n",
       "6543    4\n",
       "6876    4\n",
       "607     5\n",
       "       ..\n",
       "7891    3\n",
       "9225    4\n",
       "4859    3\n",
       "3264    4\n",
       "2732    5\n",
       "Name: rating, Length: 6561, dtype: int64"
      ]
     },
     "execution_count": 287,
     "metadata": {},
     "output_type": "execute_result"
    }
   ],
   "source": [
    "y_train"
   ]
  },
  {
   "cell_type": "code",
   "execution_count": 250,
   "id": "1b2cddd8",
   "metadata": {},
   "outputs": [],
   "source": [
    "vect = CountVectorizer()\n",
    "tf_train=vect.fit_transform(X_train)  #train the vectorizer, build the vocablury\n",
    "tf_test=vect.transform(X_test)  #get same encodings on test data as of vocabulary built"
   ]
  },
  {
   "cell_type": "code",
   "execution_count": 251,
   "id": "f2d44241",
   "metadata": {},
   "outputs": [
    {
     "name": "stdout",
     "output_type": "stream",
     "text": [
      "  (0, 7454)\t2\n",
      "  (0, 5259)\t1\n",
      "  (0, 3158)\t1\n",
      "  (0, 4161)\t1\n",
      "  (0, 5967)\t1\n",
      "  (0, 2809)\t1\n",
      "  (0, 2945)\t3\n",
      "  (0, 7727)\t1\n",
      "  (0, 3220)\t1\n",
      "  (0, 5821)\t1\n",
      "  (0, 975)\t1\n",
      "  (0, 4772)\t1\n",
      "  (0, 2832)\t1\n",
      "  (0, 848)\t1\n",
      "  (0, 2935)\t1\n",
      "  (0, 1958)\t1\n",
      "  (0, 7551)\t1\n",
      "  (0, 1282)\t1\n",
      "  (0, 1000)\t2\n",
      "  (0, 5681)\t1\n",
      "  (0, 6667)\t1\n",
      "  (0, 412)\t1\n",
      "  (0, 2596)\t1\n",
      "  (0, 6165)\t1\n",
      "  (0, 662)\t1\n",
      "  :\t:\n",
      "  (6558, 996)\t1\n",
      "  (6558, 5324)\t1\n",
      "  (6558, 1589)\t1\n",
      "  (6558, 7187)\t1\n",
      "  (6559, 1000)\t1\n",
      "  (6559, 5634)\t2\n",
      "  (6559, 577)\t1\n",
      "  (6559, 6551)\t1\n",
      "  (6559, 736)\t1\n",
      "  (6559, 1036)\t1\n",
      "  (6559, 3062)\t2\n",
      "  (6559, 7222)\t1\n",
      "  (6559, 5867)\t1\n",
      "  (6559, 7252)\t1\n",
      "  (6559, 4507)\t1\n",
      "  (6559, 2086)\t1\n",
      "  (6560, 2945)\t1\n",
      "  (6560, 165)\t1\n",
      "  (6560, 7875)\t1\n",
      "  (6560, 1291)\t1\n",
      "  (6560, 6511)\t1\n",
      "  (6560, 4808)\t1\n",
      "  (6560, 3974)\t1\n",
      "  (6560, 7532)\t1\n",
      "  (6560, 7813)\t1\n"
     ]
    }
   ],
   "source": [
    "print(tf_train)"
   ]
  },
  {
   "cell_type": "code",
   "execution_count": 252,
   "id": "d4951afe",
   "metadata": {},
   "outputs": [
    {
     "name": "stdout",
     "output_type": "stream",
     "text": [
      "  (0, 975)\t1\n",
      "  (0, 3150)\t1\n",
      "  (1, 2945)\t1\n",
      "  (1, 5428)\t1\n",
      "  (2, 1073)\t1\n",
      "  (2, 1531)\t1\n",
      "  (2, 2945)\t1\n",
      "  (3, 4878)\t1\n",
      "  (3, 5428)\t1\n",
      "  (3, 7505)\t1\n",
      "  (4, 478)\t1\n",
      "  (4, 657)\t1\n",
      "  (4, 736)\t1\n",
      "  (4, 836)\t2\n",
      "  (4, 1388)\t1\n",
      "  (4, 1441)\t1\n",
      "  (4, 1734)\t1\n",
      "  (4, 2945)\t1\n",
      "  (4, 3220)\t2\n",
      "  (4, 4012)\t1\n",
      "  (4, 4418)\t1\n",
      "  (4, 4657)\t1\n",
      "  (4, 5405)\t1\n",
      "  (4, 5634)\t1\n",
      "  (4, 6003)\t1\n",
      "  :\t:\n",
      "  (2812, 3988)\t1\n",
      "  (2812, 4240)\t1\n",
      "  (2812, 4377)\t1\n",
      "  (2812, 4477)\t1\n",
      "  (2812, 4772)\t1\n",
      "  (2812, 4908)\t1\n",
      "  (2812, 5042)\t1\n",
      "  (2812, 5428)\t2\n",
      "  (2812, 5634)\t1\n",
      "  (2812, 5804)\t1\n",
      "  (2812, 6118)\t1\n",
      "  (2812, 6481)\t1\n",
      "  (2812, 6551)\t1\n",
      "  (2812, 6623)\t1\n",
      "  (2812, 6893)\t1\n",
      "  (2812, 7023)\t1\n",
      "  (2812, 7025)\t1\n",
      "  (2812, 7120)\t2\n",
      "  (2812, 7192)\t1\n",
      "  (2812, 7290)\t1\n",
      "  (2812, 7403)\t2\n",
      "  (2812, 7436)\t1\n",
      "  (2812, 7724)\t1\n",
      "  (2812, 7732)\t1\n",
      "  (2812, 7755)\t1\n"
     ]
    }
   ],
   "source": [
    "print(tf_test)"
   ]
  },
  {
   "cell_type": "code",
   "execution_count": 314,
   "id": "93b7ded2",
   "metadata": {},
   "outputs": [],
   "source": [
    "from sklearn.naive_bayes import MultinomialNB\n",
    "model_1 = MultinomialNB(alpha=0.3)"
   ]
  },
  {
   "cell_type": "code",
   "execution_count": 315,
   "id": "c494087f",
   "metadata": {},
   "outputs": [
    {
     "data": {
      "text/html": [
       "<style>#sk-container-id-36 {color: black;background-color: white;}#sk-container-id-36 pre{padding: 0;}#sk-container-id-36 div.sk-toggleable {background-color: white;}#sk-container-id-36 label.sk-toggleable__label {cursor: pointer;display: block;width: 100%;margin-bottom: 0;padding: 0.3em;box-sizing: border-box;text-align: center;}#sk-container-id-36 label.sk-toggleable__label-arrow:before {content: \"▸\";float: left;margin-right: 0.25em;color: #696969;}#sk-container-id-36 label.sk-toggleable__label-arrow:hover:before {color: black;}#sk-container-id-36 div.sk-estimator:hover label.sk-toggleable__label-arrow:before {color: black;}#sk-container-id-36 div.sk-toggleable__content {max-height: 0;max-width: 0;overflow: hidden;text-align: left;background-color: #f0f8ff;}#sk-container-id-36 div.sk-toggleable__content pre {margin: 0.2em;color: black;border-radius: 0.25em;background-color: #f0f8ff;}#sk-container-id-36 input.sk-toggleable__control:checked~div.sk-toggleable__content {max-height: 200px;max-width: 100%;overflow: auto;}#sk-container-id-36 input.sk-toggleable__control:checked~label.sk-toggleable__label-arrow:before {content: \"▾\";}#sk-container-id-36 div.sk-estimator input.sk-toggleable__control:checked~label.sk-toggleable__label {background-color: #d4ebff;}#sk-container-id-36 div.sk-label input.sk-toggleable__control:checked~label.sk-toggleable__label {background-color: #d4ebff;}#sk-container-id-36 input.sk-hidden--visually {border: 0;clip: rect(1px 1px 1px 1px);clip: rect(1px, 1px, 1px, 1px);height: 1px;margin: -1px;overflow: hidden;padding: 0;position: absolute;width: 1px;}#sk-container-id-36 div.sk-estimator {font-family: monospace;background-color: #f0f8ff;border: 1px dotted black;border-radius: 0.25em;box-sizing: border-box;margin-bottom: 0.5em;}#sk-container-id-36 div.sk-estimator:hover {background-color: #d4ebff;}#sk-container-id-36 div.sk-parallel-item::after {content: \"\";width: 100%;border-bottom: 1px solid gray;flex-grow: 1;}#sk-container-id-36 div.sk-label:hover label.sk-toggleable__label {background-color: #d4ebff;}#sk-container-id-36 div.sk-serial::before {content: \"\";position: absolute;border-left: 1px solid gray;box-sizing: border-box;top: 0;bottom: 0;left: 50%;z-index: 0;}#sk-container-id-36 div.sk-serial {display: flex;flex-direction: column;align-items: center;background-color: white;padding-right: 0.2em;padding-left: 0.2em;position: relative;}#sk-container-id-36 div.sk-item {position: relative;z-index: 1;}#sk-container-id-36 div.sk-parallel {display: flex;align-items: stretch;justify-content: center;background-color: white;position: relative;}#sk-container-id-36 div.sk-item::before, #sk-container-id-36 div.sk-parallel-item::before {content: \"\";position: absolute;border-left: 1px solid gray;box-sizing: border-box;top: 0;bottom: 0;left: 50%;z-index: -1;}#sk-container-id-36 div.sk-parallel-item {display: flex;flex-direction: column;z-index: 1;position: relative;background-color: white;}#sk-container-id-36 div.sk-parallel-item:first-child::after {align-self: flex-end;width: 50%;}#sk-container-id-36 div.sk-parallel-item:last-child::after {align-self: flex-start;width: 50%;}#sk-container-id-36 div.sk-parallel-item:only-child::after {width: 0;}#sk-container-id-36 div.sk-dashed-wrapped {border: 1px dashed gray;margin: 0 0.4em 0.5em 0.4em;box-sizing: border-box;padding-bottom: 0.4em;background-color: white;}#sk-container-id-36 div.sk-label label {font-family: monospace;font-weight: bold;display: inline-block;line-height: 1.2em;}#sk-container-id-36 div.sk-label-container {text-align: center;}#sk-container-id-36 div.sk-container {/* jupyter's `normalize.less` sets `[hidden] { display: none; }` but bootstrap.min.css set `[hidden] { display: none !important; }` so we also need the `!important` here to be able to override the default hidden behavior on the sphinx rendered scikit-learn.org. See: https://github.com/scikit-learn/scikit-learn/issues/21755 */display: inline-block !important;position: relative;}#sk-container-id-36 div.sk-text-repr-fallback {display: none;}</style><div id=\"sk-container-id-36\" class=\"sk-top-container\"><div class=\"sk-text-repr-fallback\"><pre>MultinomialNB(alpha=0.3)</pre><b>In a Jupyter environment, please rerun this cell to show the HTML representation or trust the notebook. <br />On GitHub, the HTML representation is unable to render, please try loading this page with nbviewer.org.</b></div><div class=\"sk-container\" hidden><div class=\"sk-item\"><div class=\"sk-estimator sk-toggleable\"><input class=\"sk-toggleable__control sk-hidden--visually\" id=\"sk-estimator-id-36\" type=\"checkbox\" checked><label for=\"sk-estimator-id-36\" class=\"sk-toggleable__label sk-toggleable__label-arrow\">MultinomialNB</label><div class=\"sk-toggleable__content\"><pre>MultinomialNB(alpha=0.3)</pre></div></div></div></div></div>"
      ],
      "text/plain": [
       "MultinomialNB(alpha=0.3)"
      ]
     },
     "execution_count": 315,
     "metadata": {},
     "output_type": "execute_result"
    }
   ],
   "source": [
    "model_1.fit(X=tf_train,y=y_train)"
   ]
  },
  {
   "cell_type": "code",
   "execution_count": 316,
   "id": "ea276687",
   "metadata": {},
   "outputs": [],
   "source": [
    "expected_model_1 = y_test\n",
    "predicted_model_1=model_1.predict(tf_test)"
   ]
  },
  {
   "cell_type": "code",
   "execution_count": 317,
   "id": "175fa413",
   "metadata": {},
   "outputs": [
    {
     "name": "stdout",
     "output_type": "stream",
     "text": [
      "accuracy 0.6743690010664771\n",
      "              precision    recall  f1-score   support\n",
      "\n",
      "           1       0.71      0.76      0.73       336\n",
      "           2       0.53      0.10      0.16       103\n",
      "           3       0.38      0.08      0.13       184\n",
      "           4       0.41      0.24      0.30       582\n",
      "           5       0.72      0.92      0.81      1608\n",
      "\n",
      "    accuracy                           0.67      2813\n",
      "   macro avg       0.55      0.42      0.43      2813\n",
      "weighted avg       0.62      0.67      0.63      2813\n",
      "\n",
      "[[ 255    6    4   21   50]\n",
      " [  44   10    5   17   27]\n",
      " [  35    3   15   48   83]\n",
      " [  15    0    8  140  419]\n",
      " [  10    0    8  113 1477]]\n"
     ]
    }
   ],
   "source": [
    "from sklearn import metrics\n",
    "print('accuracy %s' % accuracy_score(expected_model_1, predicted_model_1))\n",
    "print(metrics.classification_report(expected_model_1, predicted_model_1))\n",
    "print(metrics.confusion_matrix(expected_model_1, predicted_model_1))\n",
    "NaiveBayes_accuracy=accuracy_score(expected_model_1, predicted_model_1)"
   ]
  },
  {
   "cell_type": "code",
   "execution_count": 318,
   "id": "d34c5f6d",
   "metadata": {},
   "outputs": [
    {
     "data": {
      "text/plain": [
       "(<Figure size 432x288 with 1 Axes>,\n",
       " <AxesSubplot:xlabel='predicted label', ylabel='true label'>)"
      ]
     },
     "execution_count": 318,
     "metadata": {},
     "output_type": "execute_result"
    },
    {
     "data": {
      "image/png": "[encoded data removed]",
      "text/plain": [
       "<Figure size 432x288 with 1 Axes>"
      ]
     },
     "metadata": {
      "needs_background": "light"
     },
     "output_type": "display_data"
    }
   ],
   "source": [
    "from mlxtend.plotting import plot_confusion_matrix\n",
    "\n",
    "plot_confusion_matrix(metrics.confusion_matrix(expected_model_1, predicted_model_1))"
   ]
  },
  {
   "cell_type": "code",
   "execution_count": 352,
   "id": "bda560c0",
   "metadata": {},
   "outputs": [],
   "source": [
    "from sklearn.tree import DecisionTreeClassifier\n",
    "model_2 = DecisionTreeClassifier(random_state=0)"
   ]
  },
  {
   "cell_type": "code",
   "execution_count": 353,
   "id": "7709ed8e",
   "metadata": {},
   "outputs": [
    {
     "data": {
      "text/html": [
       "<style>#sk-container-id-43 {color: black;background-color: white;}#sk-container-id-43 pre{padding: 0;}#sk-container-id-43 div.sk-toggleable {background-color: white;}#sk-container-id-43 label.sk-toggleable__label {cursor: pointer;display: block;width: 100%;margin-bottom: 0;padding: 0.3em;box-sizing: border-box;text-align: center;}#sk-container-id-43 label.sk-toggleable__label-arrow:before {content: \"▸\";float: left;margin-right: 0.25em;color: #696969;}#sk-container-id-43 label.sk-toggleable__label-arrow:hover:before {color: black;}#sk-container-id-43 div.sk-estimator:hover label.sk-toggleable__label-arrow:before {color: black;}#sk-container-id-43 div.sk-toggleable__content {max-height: 0;max-width: 0;overflow: hidden;text-align: left;background-color: #f0f8ff;}#sk-container-id-43 div.sk-toggleable__content pre {margin: 0.2em;color: black;border-radius: 0.25em;background-color: #f0f8ff;}#sk-container-id-43 input.sk-toggleable__control:checked~div.sk-toggleable__content {max-height: 200px;max-width: 100%;overflow: auto;}#sk-container-id-43 input.sk-toggleable__control:checked~label.sk-toggleable__label-arrow:before {content: \"▾\";}#sk-container-id-43 div.sk-estimator input.sk-toggleable__control:checked~label.sk-toggleable__label {background-color: #d4ebff;}#sk-container-id-43 div.sk-label input.sk-toggleable__control:checked~label.sk-toggleable__label {background-color: #d4ebff;}#sk-container-id-43 input.sk-hidden--visually {border: 0;clip: rect(1px 1px 1px 1px);clip: rect(1px, 1px, 1px, 1px);height: 1px;margin: -1px;overflow: hidden;padding: 0;position: absolute;width: 1px;}#sk-container-id-43 div.sk-estimator {font-family: monospace;background-color: #f0f8ff;border: 1px dotted black;border-radius: 0.25em;box-sizing: border-box;margin-bottom: 0.5em;}#sk-container-id-43 div.sk-estimator:hover {background-color: #d4ebff;}#sk-container-id-43 div.sk-parallel-item::after {content: \"\";width: 100%;border-bottom: 1px solid gray;flex-grow: 1;}#sk-container-id-43 div.sk-label:hover label.sk-toggleable__label {background-color: #d4ebff;}#sk-container-id-43 div.sk-serial::before {content: \"\";position: absolute;border-left: 1px solid gray;box-sizing: border-box;top: 0;bottom: 0;left: 50%;z-index: 0;}#sk-container-id-43 div.sk-serial {display: flex;flex-direction: column;align-items: center;background-color: white;padding-right: 0.2em;padding-left: 0.2em;position: relative;}#sk-container-id-43 div.sk-item {position: relative;z-index: 1;}#sk-container-id-43 div.sk-parallel {display: flex;align-items: stretch;justify-content: center;background-color: white;position: relative;}#sk-container-id-43 div.sk-item::before, #sk-container-id-43 div.sk-parallel-item::before {content: \"\";position: absolute;border-left: 1px solid gray;box-sizing: border-box;top: 0;bottom: 0;left: 50%;z-index: -1;}#sk-container-id-43 div.sk-parallel-item {display: flex;flex-direction: column;z-index: 1;position: relative;background-color: white;}#sk-container-id-43 div.sk-parallel-item:first-child::after {align-self: flex-end;width: 50%;}#sk-container-id-43 div.sk-parallel-item:last-child::after {align-self: flex-start;width: 50%;}#sk-container-id-43 div.sk-parallel-item:only-child::after {width: 0;}#sk-container-id-43 div.sk-dashed-wrapped {border: 1px dashed gray;margin: 0 0.4em 0.5em 0.4em;box-sizing: border-box;padding-bottom: 0.4em;background-color: white;}#sk-container-id-43 div.sk-label label {font-family: monospace;font-weight: bold;display: inline-block;line-height: 1.2em;}#sk-container-id-43 div.sk-label-container {text-align: center;}#sk-container-id-43 div.sk-container {/* jupyter's `normalize.less` sets `[hidden] { display: none; }` but bootstrap.min.css set `[hidden] { display: none !important; }` so we also need the `!important` here to be able to override the default hidden behavior on the sphinx rendered scikit-learn.org. See: https://github.com/scikit-learn/scikit-learn/issues/21755 */display: inline-block !important;position: relative;}#sk-container-id-43 div.sk-text-repr-fallback {display: none;}</style><div id=\"sk-container-id-43\" class=\"sk-top-container\"><div class=\"sk-text-repr-fallback\"><pre>DecisionTreeClassifier(random_state=0)</pre><b>In a Jupyter environment, please rerun this cell to show the HTML representation or trust the notebook. <br />On GitHub, the HTML representation is unable to render, please try loading this page with nbviewer.org.</b></div><div class=\"sk-container\" hidden><div class=\"sk-item\"><div class=\"sk-estimator sk-toggleable\"><input class=\"sk-toggleable__control sk-hidden--visually\" id=\"sk-estimator-id-43\" type=\"checkbox\" checked><label for=\"sk-estimator-id-43\" class=\"sk-toggleable__label sk-toggleable__label-arrow\">DecisionTreeClassifier</label><div class=\"sk-toggleable__content\"><pre>DecisionTreeClassifier(random_state=0)</pre></div></div></div></div></div>"
      ],
      "text/plain": [
       "DecisionTreeClassifier(random_state=0)"
      ]
     },
     "execution_count": 353,
     "metadata": {},
     "output_type": "execute_result"
    }
   ],
   "source": [
    "model_2.fit(X=tf_train,y=y_train)"
   ]
  },
  {
   "cell_type": "code",
   "execution_count": 354,
   "id": "3be5f6a2",
   "metadata": {},
   "outputs": [],
   "source": [
    "expected_model_2 = y_test\n",
    "predicted_model_2 =model_2.predict(tf_test)"
   ]
  },
  {
   "cell_type": "code",
   "execution_count": 355,
   "id": "3ea7440a",
   "metadata": {},
   "outputs": [
    {
     "name": "stdout",
     "output_type": "stream",
     "text": [
      "accuracy 0.6217561322431567\n",
      "              precision    recall  f1-score   support\n",
      "\n",
      "           1       0.65      0.70      0.68       336\n",
      "           2       0.40      0.27      0.32       103\n",
      "           3       0.25      0.17      0.20       184\n",
      "           4       0.35      0.30      0.32       582\n",
      "           5       0.73      0.80      0.76      1608\n",
      "\n",
      "    accuracy                           0.62      2813\n",
      "   macro avg       0.48      0.45      0.46      2813\n",
      "weighted avg       0.60      0.62      0.61      2813\n",
      "\n",
      "[[ 235   23   16   23   39]\n",
      " [  37   28    4   14   20]\n",
      " [  28    4   32   41   79]\n",
      " [  21    9   37  173  342]\n",
      " [  39    6   40  242 1281]]\n"
     ]
    }
   ],
   "source": [
    "from sklearn import metrics\n",
    "print('accuracy %s' % accuracy_score(expected_model_2, predicted_model_2))\n",
    "print(metrics.classification_report(expected_model_2, predicted_model_2))\n",
    "print(metrics.confusion_matrix(expected_model_2, predicted_model_2))\n",
    "DT_accuracy=accuracy_score(expected_model_2, predicted_model_2)"
   ]
  },
  {
   "cell_type": "code",
   "execution_count": 351,
   "id": "911df6e0",
   "metadata": {},
   "outputs": [
    {
     "data": {
      "text/plain": [
       "(<Figure size 432x288 with 1 Axes>,\n",
       " <AxesSubplot:xlabel='predicted label', ylabel='true label'>)"
      ]
     },
     "execution_count": 351,
     "metadata": {},
     "output_type": "execute_result"
    },
    {
     "data": {
      "image/png": "[encoded data removed]",
      "text/plain": [
       "<Figure size 432x288 with 1 Axes>"
      ]
     },
     "metadata": {
      "needs_background": "light"
     },
     "output_type": "display_data"
    }
   ],
   "source": [
    "from mlxtend.plotting import plot_confusion_matrix\n",
    "\n",
    "plot_confusion_matrix(metrics.confusion_matrix(expected_model_2, predicted_model_2))"
   ]
  },
  {
   "cell_type": "code",
   "execution_count": 375,
   "id": "832590b0",
   "metadata": {},
   "outputs": [],
   "source": [
    "from sklearn.neighbors import KNeighborsClassifier\n",
    "model_3 = KNeighborsClassifier(n_neighbors=15, p=2,metric='euclidean')"
   ]
  },
  {
   "cell_type": "code",
   "execution_count": 376,
   "id": "05e91d5c",
   "metadata": {},
   "outputs": [
    {
     "data": {
      "text/html": [
       "<style>#sk-container-id-48 {color: black;background-color: white;}#sk-container-id-48 pre{padding: 0;}#sk-container-id-48 div.sk-toggleable {background-color: white;}#sk-container-id-48 label.sk-toggleable__label {cursor: pointer;display: block;width: 100%;margin-bottom: 0;padding: 0.3em;box-sizing: border-box;text-align: center;}#sk-container-id-48 label.sk-toggleable__label-arrow:before {content: \"▸\";float: left;margin-right: 0.25em;color: #696969;}#sk-container-id-48 label.sk-toggleable__label-arrow:hover:before {color: black;}#sk-container-id-48 div.sk-estimator:hover label.sk-toggleable__label-arrow:before {color: black;}#sk-container-id-48 div.sk-toggleable__content {max-height: 0;max-width: 0;overflow: hidden;text-align: left;background-color: #f0f8ff;}#sk-container-id-48 div.sk-toggleable__content pre {margin: 0.2em;color: black;border-radius: 0.25em;background-color: #f0f8ff;}#sk-container-id-48 input.sk-toggleable__control:checked~div.sk-toggleable__content {max-height: 200px;max-width: 100%;overflow: auto;}#sk-container-id-48 input.sk-toggleable__control:checked~label.sk-toggleable__label-arrow:before {content: \"▾\";}#sk-container-id-48 div.sk-estimator input.sk-toggleable__control:checked~label.sk-toggleable__label {background-color: #d4ebff;}#sk-container-id-48 div.sk-label input.sk-toggleable__control:checked~label.sk-toggleable__label {background-color: #d4ebff;}#sk-container-id-48 input.sk-hidden--visually {border: 0;clip: rect(1px 1px 1px 1px);clip: rect(1px, 1px, 1px, 1px);height: 1px;margin: -1px;overflow: hidden;padding: 0;position: absolute;width: 1px;}#sk-container-id-48 div.sk-estimator {font-family: monospace;background-color: #f0f8ff;border: 1px dotted black;border-radius: 0.25em;box-sizing: border-box;margin-bottom: 0.5em;}#sk-container-id-48 div.sk-estimator:hover {background-color: #d4ebff;}#sk-container-id-48 div.sk-parallel-item::after {content: \"\";width: 100%;border-bottom: 1px solid gray;flex-grow: 1;}#sk-container-id-48 div.sk-label:hover label.sk-toggleable__label {background-color: #d4ebff;}#sk-container-id-48 div.sk-serial::before {content: \"\";position: absolute;border-left: 1px solid gray;box-sizing: border-box;top: 0;bottom: 0;left: 50%;z-index: 0;}#sk-container-id-48 div.sk-serial {display: flex;flex-direction: column;align-items: center;background-color: white;padding-right: 0.2em;padding-left: 0.2em;position: relative;}#sk-container-id-48 div.sk-item {position: relative;z-index: 1;}#sk-container-id-48 div.sk-parallel {display: flex;align-items: stretch;justify-content: center;background-color: white;position: relative;}#sk-container-id-48 div.sk-item::before, #sk-container-id-48 div.sk-parallel-item::before {content: \"\";position: absolute;border-left: 1px solid gray;box-sizing: border-box;top: 0;bottom: 0;left: 50%;z-index: -1;}#sk-container-id-48 div.sk-parallel-item {display: flex;flex-direction: column;z-index: 1;position: relative;background-color: white;}#sk-container-id-48 div.sk-parallel-item:first-child::after {align-self: flex-end;width: 50%;}#sk-container-id-48 div.sk-parallel-item:last-child::after {align-self: flex-start;width: 50%;}#sk-container-id-48 div.sk-parallel-item:only-child::after {width: 0;}#sk-container-id-48 div.sk-dashed-wrapped {border: 1px dashed gray;margin: 0 0.4em 0.5em 0.4em;box-sizing: border-box;padding-bottom: 0.4em;background-color: white;}#sk-container-id-48 div.sk-label label {font-family: monospace;font-weight: bold;display: inline-block;line-height: 1.2em;}#sk-container-id-48 div.sk-label-container {text-align: center;}#sk-container-id-48 div.sk-container {/* jupyter's `normalize.less` sets `[hidden] { display: none; }` but bootstrap.min.css set `[hidden] { display: none !important; }` so we also need the `!important` here to be able to override the default hidden behavior on the sphinx rendered scikit-learn.org. See: https://github.com/scikit-learn/scikit-learn/issues/21755 */display: inline-block !important;position: relative;}#sk-container-id-48 div.sk-text-repr-fallback {display: none;}</style><div id=\"sk-container-id-48\" class=\"sk-top-container\"><div class=\"sk-text-repr-fallback\"><pre>KNeighborsClassifier(metric=&#x27;euclidean&#x27;, n_neighbors=15)</pre><b>In a Jupyter environment, please rerun this cell to show the HTML representation or trust the notebook. <br />On GitHub, the HTML representation is unable to render, please try loading this page with nbviewer.org.</b></div><div class=\"sk-container\" hidden><div class=\"sk-item\"><div class=\"sk-estimator sk-toggleable\"><input class=\"sk-toggleable__control sk-hidden--visually\" id=\"sk-estimator-id-48\" type=\"checkbox\" checked><label for=\"sk-estimator-id-48\" class=\"sk-toggleable__label sk-toggleable__label-arrow\">KNeighborsClassifier</label><div class=\"sk-toggleable__content\"><pre>KNeighborsClassifier(metric=&#x27;euclidean&#x27;, n_neighbors=15)</pre></div></div></div></div></div>"
      ],
      "text/plain": [
       "KNeighborsClassifier(metric='euclidean', n_neighbors=15)"
      ]
     },
     "execution_count": 376,
     "metadata": {},
     "output_type": "execute_result"
    }
   ],
   "source": [
    "model_3.fit(X=tf_train,y=y_train)"
   ]
  },
  {
   "cell_type": "code",
   "execution_count": 377,
   "id": "61523b1c",
   "metadata": {},
   "outputs": [],
   "source": [
    "expected_model_3 = y_test\n",
    "predicted_model_3=model_3.predict(tf_test)"
   ]
  },
  {
   "cell_type": "code",
   "execution_count": 378,
   "id": "41878b3f",
   "metadata": {},
   "outputs": [
    {
     "name": "stdout",
     "output_type": "stream",
     "text": [
      "accuracy 0.627444009953786\n",
      "              precision    recall  f1-score   support\n",
      "\n",
      "           1       0.65      0.48      0.55       336\n",
      "           2       0.20      0.02      0.04       103\n",
      "           3       0.15      0.01      0.02       184\n",
      "           4       0.40      0.10      0.16       582\n",
      "           5       0.64      0.96      0.77      1608\n",
      "\n",
      "    accuracy                           0.63      2813\n",
      "   macro avg       0.41      0.31      0.31      2813\n",
      "weighted avg       0.55      0.63      0.54      2813\n",
      "\n",
      "[[ 161    5    4   10  156]\n",
      " [  40    2    2    7   52]\n",
      " [  27    2    2   16  137]\n",
      " [   9    0    2   58  513]\n",
      " [   9    1    3   53 1542]]\n"
     ]
    }
   ],
   "source": [
    "from sklearn import metrics\n",
    "print('accuracy %s' % accuracy_score(expected_model_3, predicted_model_3))\n",
    "print(metrics.classification_report(expected_model_3, predicted_model_3))\n",
    "print(metrics.confusion_matrix(expected_model_3, predicted_model_3))\n",
    "KNN_accuracy=accuracy_score(expected_model_3, predicted_model_3)"
   ]
  },
  {
   "cell_type": "code",
   "execution_count": 379,
   "id": "97faf932",
   "metadata": {},
   "outputs": [
    {
     "data": {
      "text/plain": [
       "(<Figure size 432x288 with 1 Axes>,\n",
       " <AxesSubplot:xlabel='predicted label', ylabel='true label'>)"
      ]
     },
     "execution_count": 379,
     "metadata": {},
     "output_type": "execute_result"
    },
    {
     "data": {
      "image/png": "[encoded data removed]",
      "text/plain": [
       "<Figure size 432x288 with 1 Axes>"
      ]
     },
     "metadata": {
      "needs_background": "light"
     },
     "output_type": "display_data"
    }
   ],
   "source": [
    "from mlxtend.plotting import plot_confusion_matrix\n",
    "\n",
    "plot_confusion_matrix(metrics.confusion_matrix(expected_model_3, predicted_model_3))"
   ]
  },
  {
   "cell_type": "code",
   "execution_count": 419,
   "id": "c86fe2b3",
   "metadata": {},
   "outputs": [],
   "source": [
    "from sklearn import svm\n",
    "model_4=svm.SVC(C=10)"
   ]
  },
  {
   "cell_type": "code",
   "execution_count": 420,
   "id": "e30aee72",
   "metadata": {},
   "outputs": [
    {
     "data": {
      "text/html": [
       "<style>#sk-container-id-58 {color: black;background-color: white;}#sk-container-id-58 pre{padding: 0;}#sk-container-id-58 div.sk-toggleable {background-color: white;}#sk-container-id-58 label.sk-toggleable__label {cursor: pointer;display: block;width: 100%;margin-bottom: 0;padding: 0.3em;box-sizing: border-box;text-align: center;}#sk-container-id-58 label.sk-toggleable__label-arrow:before {content: \"▸\";float: left;margin-right: 0.25em;color: #696969;}#sk-container-id-58 label.sk-toggleable__label-arrow:hover:before {color: black;}#sk-container-id-58 div.sk-estimator:hover label.sk-toggleable__label-arrow:before {color: black;}#sk-container-id-58 div.sk-toggleable__content {max-height: 0;max-width: 0;overflow: hidden;text-align: left;background-color: #f0f8ff;}#sk-container-id-58 div.sk-toggleable__content pre {margin: 0.2em;color: black;border-radius: 0.25em;background-color: #f0f8ff;}#sk-container-id-58 input.sk-toggleable__control:checked~div.sk-toggleable__content {max-height: 200px;max-width: 100%;overflow: auto;}#sk-container-id-58 input.sk-toggleable__control:checked~label.sk-toggleable__label-arrow:before {content: \"▾\";}#sk-container-id-58 div.sk-estimator input.sk-toggleable__control:checked~label.sk-toggleable__label {background-color: #d4ebff;}#sk-container-id-58 div.sk-label input.sk-toggleable__control:checked~label.sk-toggleable__label {background-color: #d4ebff;}#sk-container-id-58 input.sk-hidden--visually {border: 0;clip: rect(1px 1px 1px 1px);clip: rect(1px, 1px, 1px, 1px);height: 1px;margin: -1px;overflow: hidden;padding: 0;position: absolute;width: 1px;}#sk-container-id-58 div.sk-estimator {font-family: monospace;background-color: #f0f8ff;border: 1px dotted black;border-radius: 0.25em;box-sizing: border-box;margin-bottom: 0.5em;}#sk-container-id-58 div.sk-estimator:hover {background-color: #d4ebff;}#sk-container-id-58 div.sk-parallel-item::after {content: \"\";width: 100%;border-bottom: 1px solid gray;flex-grow: 1;}#sk-container-id-58 div.sk-label:hover label.sk-toggleable__label {background-color: #d4ebff;}#sk-container-id-58 div.sk-serial::before {content: \"\";position: absolute;border-left: 1px solid gray;box-sizing: border-box;top: 0;bottom: 0;left: 50%;z-index: 0;}#sk-container-id-58 div.sk-serial {display: flex;flex-direction: column;align-items: center;background-color: white;padding-right: 0.2em;padding-left: 0.2em;position: relative;}#sk-container-id-58 div.sk-item {position: relative;z-index: 1;}#sk-container-id-58 div.sk-parallel {display: flex;align-items: stretch;justify-content: center;background-color: white;position: relative;}#sk-container-id-58 div.sk-item::before, #sk-container-id-58 div.sk-parallel-item::before {content: \"\";position: absolute;border-left: 1px solid gray;box-sizing: border-box;top: 0;bottom: 0;left: 50%;z-index: -1;}#sk-container-id-58 div.sk-parallel-item {display: flex;flex-direction: column;z-index: 1;position: relative;background-color: white;}#sk-container-id-58 div.sk-parallel-item:first-child::after {align-self: flex-end;width: 50%;}#sk-container-id-58 div.sk-parallel-item:last-child::after {align-self: flex-start;width: 50%;}#sk-container-id-58 div.sk-parallel-item:only-child::after {width: 0;}#sk-container-id-58 div.sk-dashed-wrapped {border: 1px dashed gray;margin: 0 0.4em 0.5em 0.4em;box-sizing: border-box;padding-bottom: 0.4em;background-color: white;}#sk-container-id-58 div.sk-label label {font-family: monospace;font-weight: bold;display: inline-block;line-height: 1.2em;}#sk-container-id-58 div.sk-label-container {text-align: center;}#sk-container-id-58 div.sk-container {/* jupyter's `normalize.less` sets `[hidden] { display: none; }` but bootstrap.min.css set `[hidden] { display: none !important; }` so we also need the `!important` here to be able to override the default hidden behavior on the sphinx rendered scikit-learn.org. See: https://github.com/scikit-learn/scikit-learn/issues/21755 */display: inline-block !important;position: relative;}#sk-container-id-58 div.sk-text-repr-fallback {display: none;}</style><div id=\"sk-container-id-58\" class=\"sk-top-container\"><div class=\"sk-text-repr-fallback\"><pre>SVC(C=10)</pre><b>In a Jupyter environment, please rerun this cell to show the HTML representation or trust the notebook. <br />On GitHub, the HTML representation is unable to render, please try loading this page with nbviewer.org.</b></div><div class=\"sk-container\" hidden><div class=\"sk-item\"><div class=\"sk-estimator sk-toggleable\"><input class=\"sk-toggleable__control sk-hidden--visually\" id=\"sk-estimator-id-58\" type=\"checkbox\" checked><label for=\"sk-estimator-id-58\" class=\"sk-toggleable__label sk-toggleable__label-arrow\">SVC</label><div class=\"sk-toggleable__content\"><pre>SVC(C=10)</pre></div></div></div></div></div>"
      ],
      "text/plain": [
       "SVC(C=10)"
      ]
     },
     "execution_count": 420,
     "metadata": {},
     "output_type": "execute_result"
    }
   ],
   "source": [
    "model_4.fit(X=tf_train,y=y_train)"
   ]
  },
  {
   "cell_type": "code",
   "execution_count": 421,
   "id": "cae33066",
   "metadata": {},
   "outputs": [],
   "source": [
    "expected_model_4 = y_test\n",
    "predicted_model_4 =model_4.predict(tf_test)"
   ]
  },
  {
   "cell_type": "code",
   "execution_count": 422,
   "id": "79a7e91e",
   "metadata": {},
   "outputs": [
    {
     "name": "stdout",
     "output_type": "stream",
     "text": [
      "accuracy 0.6772129399217917\n",
      "              precision    recall  f1-score   support\n",
      "\n",
      "           1       0.68      0.71      0.70       336\n",
      "           2       0.50      0.17      0.25       103\n",
      "           3       0.39      0.14      0.21       184\n",
      "           4       0.50      0.22      0.31       582\n",
      "           5       0.71      0.93      0.81      1608\n",
      "\n",
      "    accuracy                           0.68      2813\n",
      "   macro avg       0.56      0.43      0.45      2813\n",
      "weighted avg       0.63      0.68      0.63      2813\n",
      "\n",
      "[[ 239   15   11   10   61]\n",
      " [  52   17    2    8   24]\n",
      " [  30    1   26   25  102]\n",
      " [  16    1   14  130  421]\n",
      " [  14    0   13   88 1493]]\n"
     ]
    }
   ],
   "source": [
    "from sklearn import metrics\n",
    "print('accuracy %s' % accuracy_score(expected_model_4, predicted_model_4))\n",
    "print(metrics.classification_report(expected_model_4, predicted_model_4))\n",
    "print(metrics.confusion_matrix(expected_model_4, predicted_model_4))\n",
    "SVM_accuracy=accuracy_score(expected_model_4, predicted_model_4)"
   ]
  },
  {
   "cell_type": "code",
   "execution_count": 423,
   "id": "dbc0040a",
   "metadata": {},
   "outputs": [
    {
     "data": {
      "text/plain": [
       "(<Figure size 432x288 with 1 Axes>,\n",
       " <AxesSubplot:xlabel='predicted label', ylabel='true label'>)"
      ]
     },
     "execution_count": 423,
     "metadata": {},
     "output_type": "execute_result"
    },
    {
     "data": {
      "image/png": "[encoded data removed]",
      "text/plain": [
       "<Figure size 432x288 with 1 Axes>"
      ]
     },
     "metadata": {
      "needs_background": "light"
     },
     "output_type": "display_data"
    }
   ],
   "source": [
    "from mlxtend.plotting import plot_confusion_matrix\n",
    "\n",
    "plot_confusion_matrix(metrics.confusion_matrix(expected_model_4, predicted_model_4))"
   ]
  },
  {
   "cell_type": "code",
   "execution_count": 424,
   "id": "190989c5",
   "metadata": {},
   "outputs": [],
   "source": [
    "Accuracy_of_all_Algorithms = [NaiveBayes_accuracy,DT_accuracy,KNN_accuracy,SVM_accuracy]"
   ]
  },
  {
   "cell_type": "code",
   "execution_count": 425,
   "id": "c942e271",
   "metadata": {},
   "outputs": [
    {
     "data": {
      "text/plain": [
       "[0.6743690010664771, 0.6217561322431567, 0.627444009953786, 0.6772129399217917]"
      ]
     },
     "execution_count": 425,
     "metadata": {},
     "output_type": "execute_result"
    }
   ],
   "source": [
    "Accuracy_of_all_Algorithms"
   ]
  },
  {
   "cell_type": "code",
   "execution_count": 426,
   "id": "75a6ac85",
   "metadata": {},
   "outputs": [],
   "source": [
    "A=[Accuracy_of_all_Algorithms]\n",
    "new = pd.DataFrame(A, index = ['Accuracy'], columns = ['NaiveBayes','Decision Tree','KNN', 'SVM'])"
   ]
  },
  {
   "cell_type": "code",
   "execution_count": 427,
   "id": "7d0a3db9",
   "metadata": {},
   "outputs": [
    {
     "data": {
      "text/html": [
       "<div>\n",
       "<style scoped>\n",
       "    .dataframe tbody tr th:only-of-type {\n",
       "        vertical-align: middle;\n",
       "    }\n",
       "\n",
       "    .dataframe tbody tr th {\n",
       "        vertical-align: top;\n",
       "    }\n",
       "\n",
       "    .dataframe thead th {\n",
       "        text-align: right;\n",
       "    }\n",
       "</style>\n",
       "<table border=\"1\" class=\"dataframe\">\n",
       "  <thead>\n",
       "    <tr style=\"text-align: right;\">\n",
       "      <th></th>\n",
       "      <th>NaiveBayes</th>\n",
       "      <th>Decision Tree</th>\n",
       "      <th>KNN</th>\n",
       "      <th>SVM</th>\n",
       "    </tr>\n",
       "  </thead>\n",
       "  <tbody>\n",
       "    <tr>\n",
       "      <th>Accuracy</th>\n",
       "      <td>0.674369</td>\n",
       "      <td>0.621756</td>\n",
       "      <td>0.627444</td>\n",
       "      <td>0.677213</td>\n",
       "    </tr>\n",
       "  </tbody>\n",
       "</table>\n",
       "</div>"
      ],
      "text/plain": [
       "          NaiveBayes  Decision Tree       KNN       SVM\n",
       "Accuracy    0.674369       0.621756  0.627444  0.677213"
      ]
     },
     "execution_count": 427,
     "metadata": {},
     "output_type": "execute_result"
    }
   ],
   "source": [
    "new"
   ]
  },
  {
   "cell_type": "code",
   "execution_count": 428,
   "id": "266b1270",
   "metadata": {},
   "outputs": [],
   "source": [
    "Models_used=['Naive Bayes', 'Decision Tree', 'KNN', 'SVM']"
   ]
  },
  {
   "cell_type": "code",
   "execution_count": 432,
   "id": "6b731e3d",
   "metadata": {},
   "outputs": [
    {
     "data": {
      "image/png": "[encoded data removed]",
      "text/plain": [
       "<Figure size 432x288 with 1 Axes>"
      ]
     },
     "metadata": {
      "needs_background": "light"
     },
     "output_type": "display_data"
    }
   ],
   "source": [
    "plt.bar(Models_used,Accuracy_of_all_Algorithms, color=['blue','cyan','orange','green'])\n",
    "plt.xlabel('Algorithms_Used')\n",
    "plt.ylabel('Accuracy')\n",
    "plt.title('Comparision of Algorithms used')\n",
    "plt.show()"
   ]
  },
  {
   "cell_type": "code",
   "execution_count": 433,
   "id": "3f201c1d",
   "metadata": {},
   "outputs": [
    {
     "data": {
      "image/png": "[encoded data removed]",
      "text/plain": [
       "<Figure size 432x288 with 1 Axes>"
      ]
     },
     "metadata": {
      "needs_background": "light"
     },
     "output_type": "display_data"
    }
   ],
   "source": [
    "plt.plot(Models_used,Accuracy_of_all_Algorithms, color='green')\n",
    "plt.xlabel('Algorithms_Used')\n",
    "plt.ylabel('Accuracy')\n",
    "plt.title('Comparision of Algorithms used')\n",
    "plt.show()"
   ]
  },
  {
   "cell_type": "markdown",
   "id": "dc50d5c0",
   "metadata": {},
   "source": [
    "# References"
   ]
  },
  {
   "cell_type": "markdown",
   "id": "3bdddb7d",
   "metadata": {},
   "source": [
    "1) https://www.machinelearningplus.com/plots/bar-plot-in-python/\n",
    "2) https://www.kaggle.com/code/devashishpandit/naive-bayes-on-news-category-dataset\n",
    "3) https://medium.com/@craxtarun/text-classification-using-naive-bayes-classifier-818885830f51\n",
    "4) https://problemsolvingwithpython.com/06-Plotting-with-Matplotlib/06.06-Bar-Charts-and-Pie-Charts/ \n",
    "5) https://stackoverflow.com/questions/55360559/check-number-of-stopwords-in-a-text-column-pandas"
   ]
  },
  {
   "cell_type": "code",
   "execution_count": null,
   "id": "16835207",
   "metadata": {},
   "outputs": [],
   "source": []
  }
 ],
 "metadata": {
  "kernelspec": {
   "display_name": "Python 3 (ipykernel)",
   "language": "python",
   "name": "python3"
  },
  "language_info": {
   "codemirror_mode": {
    "name": "ipython",
    "version": 3
   },
   "file_extension": ".py",
   "mimetype": "text/x-python",
   "name": "python",
   "nbconvert_exporter": "python",
   "pygments_lexer": "ipython3",
   "version": "3.9.7"
  }
 },
 "nbformat": 4,
 "nbformat_minor": 5
}
