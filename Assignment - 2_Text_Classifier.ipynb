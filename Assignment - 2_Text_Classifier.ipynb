{
 "cells": [
  {
   "cell_type": "code",
   "execution_count": 129,
   "id": "676d816b",
   "metadata": {},
   "outputs": [
    {
     "name": "stderr",
     "output_type": "stream",
     "text": [
      "[nltk_data] Downloading package stopwords to\n",
      "[nltk_data]     C:\\Users\\ganug\\AppData\\Roaming\\nltk_data...\n",
      "[nltk_data]   Package stopwords is already up-to-date!\n",
      "[nltk_data] Downloading package punkt to\n",
      "[nltk_data]     C:\\Users\\ganug\\AppData\\Roaming\\nltk_data...\n",
      "[nltk_data]   Package punkt is already up-to-date!\n"
     ]
    },
    {
     "data": {
      "text/plain": [
       "True"
      ]
     },
     "execution_count": 129,
     "metadata": {},
     "output_type": "execute_result"
    }
   ],
   "source": [
    "import numpy as np\n",
    "import nltk\n",
    "import pandas as pd\n",
    "import matplotlib\n",
    "import matplotlib.pyplot as plt\n",
    "from nltk import pos_tag\n",
    "from nltk.stem import WordNetLemmatizer\n",
    "from nltk.tokenize import word_tokenize\n",
    "from nltk.corpus import stopwords\n",
    "from nltk.corpus.reader import wordnet\n",
    "from sklearn.preprocessing import LabelEncoder\n",
    "from sklearn.feature_extraction.text import TfidfVectorizer\n",
    "from sklearn.metrics import accuracy_score\n",
    "from sklearn import model_selection\n",
    "from collections import defaultdict\n",
    "from collections import Counter\n",
    "nltk.download('stopwords')\n",
    "nltk.download('punkt')"
   ]
  },
  {
   "cell_type": "code",
   "execution_count": 130,
   "id": "313a54b1",
   "metadata": {},
   "outputs": [
    {
     "data": {
      "text/html": [
       "<div>\n",
       "<style scoped>\n",
       "    .dataframe tbody tr th:only-of-type {\n",
       "        vertical-align: middle;\n",
       "    }\n",
       "\n",
       "    .dataframe tbody tr th {\n",
       "        vertical-align: top;\n",
       "    }\n",
       "\n",
       "    .dataframe thead th {\n",
       "        text-align: right;\n",
       "    }\n",
       "</style>\n",
       "<table border=\"1\" class=\"dataframe\">\n",
       "  <thead>\n",
       "    <tr style=\"text-align: right;\">\n",
       "      <th></th>\n",
       "      <th>Unnamed: 0</th>\n",
       "      <th>Sentence_id</th>\n",
       "      <th>New_Sentence</th>\n",
       "      <th>Type</th>\n",
       "    </tr>\n",
       "  </thead>\n",
       "  <tbody>\n",
       "    <tr>\n",
       "      <th>0</th>\n",
       "      <td>0</td>\n",
       "      <td>GERRES15609</td>\n",
       "      <td>Author and/or Review architecture/design and o...</td>\n",
       "      <td>Responsibility</td>\n",
       "    </tr>\n",
       "    <tr>\n",
       "      <th>1</th>\n",
       "      <td>1</td>\n",
       "      <td>PHERES15784</td>\n",
       "      <td>Should be able to develop custom dynamic shape...</td>\n",
       "      <td>Responsibility</td>\n",
       "    </tr>\n",
       "    <tr>\n",
       "      <th>2</th>\n",
       "      <td>2</td>\n",
       "      <td>GERREQ10457</td>\n",
       "      <td>Experience in working crosslly with a  larger ...</td>\n",
       "      <td>Requirement</td>\n",
       "    </tr>\n",
       "    <tr>\n",
       "      <th>3</th>\n",
       "      <td>3</td>\n",
       "      <td>GERSKL27235</td>\n",
       "      <td>Previous business experience, including but no...</td>\n",
       "      <td>Skill</td>\n",
       "    </tr>\n",
       "    <tr>\n",
       "      <th>4</th>\n",
       "      <td>4</td>\n",
       "      <td>HONSSK18415</td>\n",
       "      <td>Delivering fast and right the first  time.</td>\n",
       "      <td>SoftSkill</td>\n",
       "    </tr>\n",
       "    <tr>\n",
       "      <th>...</th>\n",
       "      <td>...</td>\n",
       "      <td>...</td>\n",
       "      <td>...</td>\n",
       "      <td>...</td>\n",
       "    </tr>\n",
       "    <tr>\n",
       "      <th>60110</th>\n",
       "      <td>60110</td>\n",
       "      <td>UAERES18030</td>\n",
       "      <td>In this position, you will  utilize your progr...</td>\n",
       "      <td>Responsibility</td>\n",
       "    </tr>\n",
       "    <tr>\n",
       "      <th>60111</th>\n",
       "      <td>60111</td>\n",
       "      <td>GERRES3026</td>\n",
       "      <td>In addition, this individual will be responsib...</td>\n",
       "      <td>Responsibility</td>\n",
       "    </tr>\n",
       "    <tr>\n",
       "      <th>60112</th>\n",
       "      <td>60112</td>\n",
       "      <td>INDSSK5492</td>\n",
       "      <td>Good problem  solving skills.</td>\n",
       "      <td>SoftSkill</td>\n",
       "    </tr>\n",
       "    <tr>\n",
       "      <th>60113</th>\n",
       "      <td>60113</td>\n",
       "      <td>PHESSK15092</td>\n",
       "      <td>Good Excel knowledge  .</td>\n",
       "      <td>SoftSkill</td>\n",
       "    </tr>\n",
       "    <tr>\n",
       "      <th>60114</th>\n",
       "      <td>60114</td>\n",
       "      <td>HONEDU1643</td>\n",
       "      <td>Bachelors Degree in  Electrical Engineering, M...</td>\n",
       "      <td>Education</td>\n",
       "    </tr>\n",
       "  </tbody>\n",
       "</table>\n",
       "<p>60115 rows × 4 columns</p>\n",
       "</div>"
      ],
      "text/plain": [
       "       Unnamed: 0  Sentence_id  \\\n",
       "0               0  GERRES15609   \n",
       "1               1  PHERES15784   \n",
       "2               2  GERREQ10457   \n",
       "3               3  GERSKL27235   \n",
       "4               4  HONSSK18415   \n",
       "...           ...          ...   \n",
       "60110       60110  UAERES18030   \n",
       "60111       60111   GERRES3026   \n",
       "60112       60112   INDSSK5492   \n",
       "60113       60113  PHESSK15092   \n",
       "60114       60114   HONEDU1643   \n",
       "\n",
       "                                            New_Sentence            Type  \n",
       "0      Author and/or Review architecture/design and o...  Responsibility  \n",
       "1      Should be able to develop custom dynamic shape...  Responsibility  \n",
       "2      Experience in working crosslly with a  larger ...     Requirement  \n",
       "3      Previous business experience, including but no...           Skill  \n",
       "4             Delivering fast and right the first  time.       SoftSkill  \n",
       "...                                                  ...             ...  \n",
       "60110  In this position, you will  utilize your progr...  Responsibility  \n",
       "60111  In addition, this individual will be responsib...  Responsibility  \n",
       "60112                      Good problem  solving skills.       SoftSkill  \n",
       "60113                            Good Excel knowledge  .       SoftSkill  \n",
       "60114  Bachelors Degree in  Electrical Engineering, M...       Education  \n",
       "\n",
       "[60115 rows x 4 columns]"
      ]
     },
     "execution_count": 130,
     "metadata": {},
     "output_type": "execute_result"
    }
   ],
   "source": [
    "trainingdatasets = pd.read_csv(\"train_data.csv\")\n",
    "testingdatasets = pd.read_csv(\"test_data.csv\")\n",
    "trainingdatasets"
   ]
  },
  {
   "cell_type": "code",
   "execution_count": 131,
   "id": "616ebd3d",
   "metadata": {},
   "outputs": [
    {
     "data": {
      "text/plain": [
       "(59002, 3)"
      ]
     },
     "execution_count": 131,
     "metadata": {},
     "output_type": "execute_result"
    }
   ],
   "source": [
    "columnsofdataset = trainingdatasets.columns\n",
    "newdata = trainingdatasets[columnsofdataset.drop(['Unnamed: 0'])]\n",
    "newdata = newdata.dropna()\n",
    "newdata.shape"
   ]
  },
  {
   "cell_type": "code",
   "execution_count": 132,
   "id": "9aee261c",
   "metadata": {},
   "outputs": [],
   "source": [
    "Allsentence = newdata['Sentence_id'].astype(str)+' '+newdata['New_Sentence']\n",
    "newdata['CombinedSentence']= Allsentence"
   ]
  },
  {
   "cell_type": "code",
   "execution_count": 133,
   "id": "f0c3995b",
   "metadata": {},
   "outputs": [
    {
     "data": {
      "text/html": [
       "<div>\n",
       "<style scoped>\n",
       "    .dataframe tbody tr th:only-of-type {\n",
       "        vertical-align: middle;\n",
       "    }\n",
       "\n",
       "    .dataframe tbody tr th {\n",
       "        vertical-align: top;\n",
       "    }\n",
       "\n",
       "    .dataframe thead th {\n",
       "        text-align: right;\n",
       "    }\n",
       "</style>\n",
       "<table border=\"1\" class=\"dataframe\">\n",
       "  <thead>\n",
       "    <tr style=\"text-align: right;\">\n",
       "      <th></th>\n",
       "      <th>Sentence_id</th>\n",
       "      <th>New_Sentence</th>\n",
       "      <th>Type</th>\n",
       "      <th>CombinedSentence</th>\n",
       "    </tr>\n",
       "  </thead>\n",
       "  <tbody>\n",
       "    <tr>\n",
       "      <th>0</th>\n",
       "      <td>GERRES15609</td>\n",
       "      <td>Author and/or Review architecture/design and o...</td>\n",
       "      <td>Responsibility</td>\n",
       "      <td>GERRES15609 Author and/or Review architecture/...</td>\n",
       "    </tr>\n",
       "    <tr>\n",
       "      <th>1</th>\n",
       "      <td>PHERES15784</td>\n",
       "      <td>Should be able to develop custom dynamic shape...</td>\n",
       "      <td>Responsibility</td>\n",
       "      <td>PHERES15784 Should be able to develop custom d...</td>\n",
       "    </tr>\n",
       "    <tr>\n",
       "      <th>2</th>\n",
       "      <td>GERREQ10457</td>\n",
       "      <td>Experience in working crosslly with a  larger ...</td>\n",
       "      <td>Requirement</td>\n",
       "      <td>GERREQ10457 Experience in working crosslly wit...</td>\n",
       "    </tr>\n",
       "    <tr>\n",
       "      <th>3</th>\n",
       "      <td>GERSKL27235</td>\n",
       "      <td>Previous business experience, including but no...</td>\n",
       "      <td>Skill</td>\n",
       "      <td>GERSKL27235 Previous business experience, incl...</td>\n",
       "    </tr>\n",
       "    <tr>\n",
       "      <th>4</th>\n",
       "      <td>HONSSK18415</td>\n",
       "      <td>Delivering fast and right the first  time.</td>\n",
       "      <td>SoftSkill</td>\n",
       "      <td>HONSSK18415 Delivering fast and right the firs...</td>\n",
       "    </tr>\n",
       "    <tr>\n",
       "      <th>...</th>\n",
       "      <td>...</td>\n",
       "      <td>...</td>\n",
       "      <td>...</td>\n",
       "      <td>...</td>\n",
       "    </tr>\n",
       "    <tr>\n",
       "      <th>60110</th>\n",
       "      <td>UAERES18030</td>\n",
       "      <td>In this position, you will  utilize your progr...</td>\n",
       "      <td>Responsibility</td>\n",
       "      <td>UAERES18030 In this position, you will  utiliz...</td>\n",
       "    </tr>\n",
       "    <tr>\n",
       "      <th>60111</th>\n",
       "      <td>GERRES3026</td>\n",
       "      <td>In addition, this individual will be responsib...</td>\n",
       "      <td>Responsibility</td>\n",
       "      <td>GERRES3026 In addition, this individual will b...</td>\n",
       "    </tr>\n",
       "    <tr>\n",
       "      <th>60112</th>\n",
       "      <td>INDSSK5492</td>\n",
       "      <td>Good problem  solving skills.</td>\n",
       "      <td>SoftSkill</td>\n",
       "      <td>INDSSK5492 Good problem  solving skills.</td>\n",
       "    </tr>\n",
       "    <tr>\n",
       "      <th>60113</th>\n",
       "      <td>PHESSK15092</td>\n",
       "      <td>Good Excel knowledge  .</td>\n",
       "      <td>SoftSkill</td>\n",
       "      <td>PHESSK15092 Good Excel knowledge  .</td>\n",
       "    </tr>\n",
       "    <tr>\n",
       "      <th>60114</th>\n",
       "      <td>HONEDU1643</td>\n",
       "      <td>Bachelors Degree in  Electrical Engineering, M...</td>\n",
       "      <td>Education</td>\n",
       "      <td>HONEDU1643 Bachelors Degree in  Electrical Eng...</td>\n",
       "    </tr>\n",
       "  </tbody>\n",
       "</table>\n",
       "<p>59002 rows × 4 columns</p>\n",
       "</div>"
      ],
      "text/plain": [
       "       Sentence_id                                       New_Sentence  \\\n",
       "0      GERRES15609  Author and/or Review architecture/design and o...   \n",
       "1      PHERES15784  Should be able to develop custom dynamic shape...   \n",
       "2      GERREQ10457  Experience in working crosslly with a  larger ...   \n",
       "3      GERSKL27235  Previous business experience, including but no...   \n",
       "4      HONSSK18415         Delivering fast and right the first  time.   \n",
       "...            ...                                                ...   \n",
       "60110  UAERES18030  In this position, you will  utilize your progr...   \n",
       "60111   GERRES3026  In addition, this individual will be responsib...   \n",
       "60112   INDSSK5492                      Good problem  solving skills.   \n",
       "60113  PHESSK15092                            Good Excel knowledge  .   \n",
       "60114   HONEDU1643  Bachelors Degree in  Electrical Engineering, M...   \n",
       "\n",
       "                 Type                                   CombinedSentence  \n",
       "0      Responsibility  GERRES15609 Author and/or Review architecture/...  \n",
       "1      Responsibility  PHERES15784 Should be able to develop custom d...  \n",
       "2         Requirement  GERREQ10457 Experience in working crosslly wit...  \n",
       "3               Skill  GERSKL27235 Previous business experience, incl...  \n",
       "4           SoftSkill  HONSSK18415 Delivering fast and right the firs...  \n",
       "...               ...                                                ...  \n",
       "60110  Responsibility  UAERES18030 In this position, you will  utiliz...  \n",
       "60111  Responsibility  GERRES3026 In addition, this individual will b...  \n",
       "60112       SoftSkill           INDSSK5492 Good problem  solving skills.  \n",
       "60113       SoftSkill                PHESSK15092 Good Excel knowledge  .  \n",
       "60114       Education  HONEDU1643 Bachelors Degree in  Electrical Eng...  \n",
       "\n",
       "[59002 rows x 4 columns]"
      ]
     },
     "execution_count": 133,
     "metadata": {},
     "output_type": "execute_result"
    }
   ],
   "source": [
    "newdata"
   ]
  },
  {
   "cell_type": "code",
   "execution_count": 134,
   "id": "4cc94b9f",
   "metadata": {},
   "outputs": [
    {
     "data": {
      "text/html": [
       "<div>\n",
       "<style scoped>\n",
       "    .dataframe tbody tr th:only-of-type {\n",
       "        vertical-align: middle;\n",
       "    }\n",
       "\n",
       "    .dataframe tbody tr th {\n",
       "        vertical-align: top;\n",
       "    }\n",
       "\n",
       "    .dataframe thead th {\n",
       "        text-align: right;\n",
       "    }\n",
       "</style>\n",
       "<table border=\"1\" class=\"dataframe\">\n",
       "  <thead>\n",
       "    <tr style=\"text-align: right;\">\n",
       "      <th></th>\n",
       "      <th>CombinedSentence</th>\n",
       "    </tr>\n",
       "  </thead>\n",
       "  <tbody>\n",
       "    <tr>\n",
       "      <th>1</th>\n",
       "      <td>PHERES15784 Should be able to develop custom d...</td>\n",
       "    </tr>\n",
       "  </tbody>\n",
       "</table>\n",
       "</div>"
      ],
      "text/plain": [
       "                                    CombinedSentence\n",
       "1  PHERES15784 Should be able to develop custom d..."
      ]
     },
     "execution_count": 134,
     "metadata": {},
     "output_type": "execute_result"
    }
   ],
   "source": [
    "newdata.iloc[[1],[3]]"
   ]
  },
  {
   "cell_type": "code",
   "execution_count": 135,
   "id": "f7aae315",
   "metadata": {},
   "outputs": [
    {
     "data": {
      "text/plain": [
       "236008"
      ]
     },
     "execution_count": 135,
     "metadata": {},
     "output_type": "execute_result"
    }
   ],
   "source": [
    "newdata.size"
   ]
  },
  {
   "cell_type": "code",
   "execution_count": 136,
   "id": "e854a209",
   "metadata": {},
   "outputs": [],
   "source": [
    "from sklearn.model_selection import train_test_split\n",
    "trainingdataset, X = train_test_split(newdata, train_size=0.5)\n",
    "dev_set, testingdataset = train_test_split(X, test_size=0.6)"
   ]
  },
  {
   "cell_type": "code",
   "execution_count": 137,
   "id": "d2266ee4",
   "metadata": {
    "scrolled": true
   },
   "outputs": [
    {
     "data": {
      "text/html": [
       "<div>\n",
       "<style scoped>\n",
       "    .dataframe tbody tr th:only-of-type {\n",
       "        vertical-align: middle;\n",
       "    }\n",
       "\n",
       "    .dataframe tbody tr th {\n",
       "        vertical-align: top;\n",
       "    }\n",
       "\n",
       "    .dataframe thead th {\n",
       "        text-align: right;\n",
       "    }\n",
       "</style>\n",
       "<table border=\"1\" class=\"dataframe\">\n",
       "  <thead>\n",
       "    <tr style=\"text-align: right;\">\n",
       "      <th></th>\n",
       "      <th>Sentence_id</th>\n",
       "      <th>New_Sentence</th>\n",
       "      <th>Type</th>\n",
       "      <th>CombinedSentence</th>\n",
       "    </tr>\n",
       "  </thead>\n",
       "  <tbody>\n",
       "    <tr>\n",
       "      <th>53834</th>\n",
       "      <td>UAESSK9337</td>\n",
       "      <td>Comunicaxe7xe3o clara  (falada e escrita).</td>\n",
       "      <td>SoftSkill</td>\n",
       "      <td>UAESSK9337 Comunicaxe7xe3o clara  (falada e es...</td>\n",
       "    </tr>\n",
       "    <tr>\n",
       "      <th>6973</th>\n",
       "      <td>COGSKL28444</td>\n",
       "      <td>C++  knowledge would be additional advantage.</td>\n",
       "      <td>Skill</td>\n",
       "      <td>COGSKL28444 C++  knowledge would be additional...</td>\n",
       "    </tr>\n",
       "    <tr>\n",
       "      <th>46818</th>\n",
       "      <td>UAEEDU19259</td>\n",
       "      <td>Delivering client engagements as part of a tea...</td>\n",
       "      <td>Education</td>\n",
       "      <td>UAEEDU19259 Delivering client engagements as p...</td>\n",
       "    </tr>\n",
       "    <tr>\n",
       "      <th>45404</th>\n",
       "      <td>COGSKL17217</td>\n",
       "      <td>Ability to perform test planning, test design ...</td>\n",
       "      <td>Skill</td>\n",
       "      <td>COGSKL17217 Ability to perform test planning, ...</td>\n",
       "    </tr>\n",
       "    <tr>\n",
       "      <th>22912</th>\n",
       "      <td>COGREQ7289</td>\n",
       "      <td>his is a dummy block of text And this is repre...</td>\n",
       "      <td>Requirement</td>\n",
       "      <td>COGREQ7289 his is a dummy block of text And th...</td>\n",
       "    </tr>\n",
       "    <tr>\n",
       "      <th>...</th>\n",
       "      <td>...</td>\n",
       "      <td>...</td>\n",
       "      <td>...</td>\n",
       "      <td>...</td>\n",
       "    </tr>\n",
       "    <tr>\n",
       "      <th>34120</th>\n",
       "      <td>UAEEXP17916</td>\n",
       "      <td>Understand specifications conducts HLD design ...</td>\n",
       "      <td>Experience</td>\n",
       "      <td>UAEEXP17916 Understand specifications conducts...</td>\n",
       "    </tr>\n",
       "    <tr>\n",
       "      <th>14400</th>\n",
       "      <td>PHERES19878</td>\n",
       "      <td>It is based in Atlanta,  GA and reports to the...</td>\n",
       "      <td>Responsibility</td>\n",
       "      <td>PHERES19878 It is based in Atlanta,  GA and re...</td>\n",
       "    </tr>\n",
       "    <tr>\n",
       "      <th>35862</th>\n",
       "      <td>UAEEXP32743</td>\n",
       "      <td>1  + years experience manufacturing environment.</td>\n",
       "      <td>Experience</td>\n",
       "      <td>UAEEXP32743 1  + years experience manufacturin...</td>\n",
       "    </tr>\n",
       "    <tr>\n",
       "      <th>41705</th>\n",
       "      <td>HONREQ4418</td>\n",
       "      <td>Experience in working in a  Product Developmen...</td>\n",
       "      <td>Requirement</td>\n",
       "      <td>HONREQ4418 Experience in working in a  Product...</td>\n",
       "    </tr>\n",
       "    <tr>\n",
       "      <th>19565</th>\n",
       "      <td>COGRES19087</td>\n",
       "      <td>Grow  Honeywell share within partners total bu...</td>\n",
       "      <td>Responsibility</td>\n",
       "      <td>COGRES19087 Grow  Honeywell share within partn...</td>\n",
       "    </tr>\n",
       "  </tbody>\n",
       "</table>\n",
       "<p>29501 rows × 4 columns</p>\n",
       "</div>"
      ],
      "text/plain": [
       "       Sentence_id                                       New_Sentence  \\\n",
       "53834   UAESSK9337         Comunicaxe7xe3o clara  (falada e escrita).   \n",
       "6973   COGSKL28444      C++  knowledge would be additional advantage.   \n",
       "46818  UAEEDU19259  Delivering client engagements as part of a tea...   \n",
       "45404  COGSKL17217  Ability to perform test planning, test design ...   \n",
       "22912   COGREQ7289  his is a dummy block of text And this is repre...   \n",
       "...            ...                                                ...   \n",
       "34120  UAEEXP17916  Understand specifications conducts HLD design ...   \n",
       "14400  PHERES19878  It is based in Atlanta,  GA and reports to the...   \n",
       "35862  UAEEXP32743   1  + years experience manufacturing environment.   \n",
       "41705   HONREQ4418  Experience in working in a  Product Developmen...   \n",
       "19565  COGRES19087  Grow  Honeywell share within partners total bu...   \n",
       "\n",
       "                 Type                                   CombinedSentence  \n",
       "53834       SoftSkill  UAESSK9337 Comunicaxe7xe3o clara  (falada e es...  \n",
       "6973            Skill  COGSKL28444 C++  knowledge would be additional...  \n",
       "46818       Education  UAEEDU19259 Delivering client engagements as p...  \n",
       "45404           Skill  COGSKL17217 Ability to perform test planning, ...  \n",
       "22912     Requirement  COGREQ7289 his is a dummy block of text And th...  \n",
       "...               ...                                                ...  \n",
       "34120      Experience  UAEEXP17916 Understand specifications conducts...  \n",
       "14400  Responsibility  PHERES19878 It is based in Atlanta,  GA and re...  \n",
       "35862      Experience  UAEEXP32743 1  + years experience manufacturin...  \n",
       "41705     Requirement  HONREQ4418 Experience in working in a  Product...  \n",
       "19565  Responsibility  COGRES19087 Grow  Honeywell share within partn...  \n",
       "\n",
       "[29501 rows x 4 columns]"
      ]
     },
     "execution_count": 137,
     "metadata": {},
     "output_type": "execute_result"
    }
   ],
   "source": [
    "trainingdataset"
   ]
  },
  {
   "cell_type": "code",
   "execution_count": 138,
   "id": "7b4b66a4",
   "metadata": {},
   "outputs": [
    {
     "data": {
      "text/html": [
       "<div>\n",
       "<style scoped>\n",
       "    .dataframe tbody tr th:only-of-type {\n",
       "        vertical-align: middle;\n",
       "    }\n",
       "\n",
       "    .dataframe tbody tr th {\n",
       "        vertical-align: top;\n",
       "    }\n",
       "\n",
       "    .dataframe thead th {\n",
       "        text-align: right;\n",
       "    }\n",
       "</style>\n",
       "<table border=\"1\" class=\"dataframe\">\n",
       "  <thead>\n",
       "    <tr style=\"text-align: right;\">\n",
       "      <th></th>\n",
       "      <th>Sentence_id</th>\n",
       "      <th>New_Sentence</th>\n",
       "      <th>Type</th>\n",
       "      <th>CombinedSentence</th>\n",
       "    </tr>\n",
       "  </thead>\n",
       "  <tbody>\n",
       "    <tr>\n",
       "      <th>36472</th>\n",
       "      <td>UAESSK6995</td>\n",
       "      <td>Excellent  organizational and interpersonal sk...</td>\n",
       "      <td>SoftSkill</td>\n",
       "      <td>UAESSK6995 Excellent  organizational and inter...</td>\n",
       "    </tr>\n",
       "    <tr>\n",
       "      <th>40023</th>\n",
       "      <td>UAESSK43504</td>\n",
       "      <td>Excellent attention to  detail.</td>\n",
       "      <td>SoftSkill</td>\n",
       "      <td>UAESSK43504 Excellent attention to  detail.</td>\n",
       "    </tr>\n",
       "    <tr>\n",
       "      <th>21715</th>\n",
       "      <td>GERRES26674</td>\n",
       "      <td>Develop and update  automation systems and com...</td>\n",
       "      <td>Responsibility</td>\n",
       "      <td>GERRES26674 Develop and update  automation sys...</td>\n",
       "    </tr>\n",
       "    <tr>\n",
       "      <th>52406</th>\n",
       "      <td>HONRES8669</td>\n",
       "      <td>Support in annual Business Planning cycles set...</td>\n",
       "      <td>Responsibility</td>\n",
       "      <td>HONRES8669 Support in annual Business Planning...</td>\n",
       "    </tr>\n",
       "    <tr>\n",
       "      <th>6363</th>\n",
       "      <td>GERREQ48850</td>\n",
       "      <td>Ability to use judgment and logic to understan...</td>\n",
       "      <td>Requirement</td>\n",
       "      <td>GERREQ48850 Ability to use judgment and logic ...</td>\n",
       "    </tr>\n",
       "    <tr>\n",
       "      <th>...</th>\n",
       "      <td>...</td>\n",
       "      <td>...</td>\n",
       "      <td>...</td>\n",
       "      <td>...</td>\n",
       "    </tr>\n",
       "    <tr>\n",
       "      <th>21244</th>\n",
       "      <td>COGEXP8603</td>\n",
       "      <td>Total experience of 5 to 8 years  .</td>\n",
       "      <td>Experience</td>\n",
       "      <td>COGEXP8603 Total experience of 5 to 8 years  .</td>\n",
       "    </tr>\n",
       "    <tr>\n",
       "      <th>22311</th>\n",
       "      <td>PHERES20280</td>\n",
       "      <td>Participate in the progress review meetings an...</td>\n",
       "      <td>Responsibility</td>\n",
       "      <td>PHERES20280 Participate in the progress review...</td>\n",
       "    </tr>\n",
       "    <tr>\n",
       "      <th>19191</th>\n",
       "      <td>COGRES40713</td>\n",
       "      <td>Deriving transfer functions and noise analysis...</td>\n",
       "      <td>Responsibility</td>\n",
       "      <td>COGRES40713 Deriving transfer functions and no...</td>\n",
       "    </tr>\n",
       "    <tr>\n",
       "      <th>58180</th>\n",
       "      <td>COGEXP1058</td>\n",
       "      <td>Minimum 3 years of experience in industrial au...</td>\n",
       "      <td>Experience</td>\n",
       "      <td>COGEXP1058 Minimum 3 years of experience in in...</td>\n",
       "    </tr>\n",
       "    <tr>\n",
       "      <th>25541</th>\n",
       "      <td>GERREQ13921</td>\n",
       "      <td>Bachelor of Science degree from an ABET accred...</td>\n",
       "      <td>Requirement</td>\n",
       "      <td>GERREQ13921 Bachelor of Science degree from an...</td>\n",
       "    </tr>\n",
       "  </tbody>\n",
       "</table>\n",
       "<p>17701 rows × 4 columns</p>\n",
       "</div>"
      ],
      "text/plain": [
       "       Sentence_id                                       New_Sentence  \\\n",
       "36472   UAESSK6995  Excellent  organizational and interpersonal sk...   \n",
       "40023  UAESSK43504                    Excellent attention to  detail.   \n",
       "21715  GERRES26674  Develop and update  automation systems and com...   \n",
       "52406   HONRES8669  Support in annual Business Planning cycles set...   \n",
       "6363   GERREQ48850  Ability to use judgment and logic to understan...   \n",
       "...            ...                                                ...   \n",
       "21244   COGEXP8603                Total experience of 5 to 8 years  .   \n",
       "22311  PHERES20280  Participate in the progress review meetings an...   \n",
       "19191  COGRES40713  Deriving transfer functions and noise analysis...   \n",
       "58180   COGEXP1058  Minimum 3 years of experience in industrial au...   \n",
       "25541  GERREQ13921  Bachelor of Science degree from an ABET accred...   \n",
       "\n",
       "                 Type                                   CombinedSentence  \n",
       "36472       SoftSkill  UAESSK6995 Excellent  organizational and inter...  \n",
       "40023       SoftSkill        UAESSK43504 Excellent attention to  detail.  \n",
       "21715  Responsibility  GERRES26674 Develop and update  automation sys...  \n",
       "52406  Responsibility  HONRES8669 Support in annual Business Planning...  \n",
       "6363      Requirement  GERREQ48850 Ability to use judgment and logic ...  \n",
       "...               ...                                                ...  \n",
       "21244      Experience     COGEXP8603 Total experience of 5 to 8 years  .  \n",
       "22311  Responsibility  PHERES20280 Participate in the progress review...  \n",
       "19191  Responsibility  COGRES40713 Deriving transfer functions and no...  \n",
       "58180      Experience  COGEXP1058 Minimum 3 years of experience in in...  \n",
       "25541     Requirement  GERREQ13921 Bachelor of Science degree from an...  \n",
       "\n",
       "[17701 rows x 4 columns]"
      ]
     },
     "execution_count": 138,
     "metadata": {},
     "output_type": "execute_result"
    }
   ],
   "source": [
    "testingdataset"
   ]
  },
  {
   "cell_type": "code",
   "execution_count": 139,
   "id": "b31a54b2",
   "metadata": {},
   "outputs": [
    {
     "data": {
      "text/html": [
       "<div>\n",
       "<style scoped>\n",
       "    .dataframe tbody tr th:only-of-type {\n",
       "        vertical-align: middle;\n",
       "    }\n",
       "\n",
       "    .dataframe tbody tr th {\n",
       "        vertical-align: top;\n",
       "    }\n",
       "\n",
       "    .dataframe thead th {\n",
       "        text-align: right;\n",
       "    }\n",
       "</style>\n",
       "<table border=\"1\" class=\"dataframe\">\n",
       "  <thead>\n",
       "    <tr style=\"text-align: right;\">\n",
       "      <th></th>\n",
       "      <th>Sentence_id</th>\n",
       "      <th>New_Sentence</th>\n",
       "      <th>Type</th>\n",
       "      <th>CombinedSentence</th>\n",
       "    </tr>\n",
       "  </thead>\n",
       "  <tbody>\n",
       "    <tr>\n",
       "      <th>22290</th>\n",
       "      <td>GEREXP18399</td>\n",
       "      <td>Minimum 12 years experience selling similar Se...</td>\n",
       "      <td>Experience</td>\n",
       "      <td>GEREXP18399 Minimum 12 years experience sellin...</td>\n",
       "    </tr>\n",
       "    <tr>\n",
       "      <th>49363</th>\n",
       "      <td>PHERES14671</td>\n",
       "      <td>Reporting of all testing related  findings.</td>\n",
       "      <td>Responsibility</td>\n",
       "      <td>PHERES14671 Reporting of all testing related  ...</td>\n",
       "    </tr>\n",
       "    <tr>\n",
       "      <th>58695</th>\n",
       "      <td>COGSSK18562</td>\n",
       "      <td>Cyber design at the  component level.</td>\n",
       "      <td>SoftSkill</td>\n",
       "      <td>COGSSK18562 Cyber design at the  component level.</td>\n",
       "    </tr>\n",
       "    <tr>\n",
       "      <th>58783</th>\n",
       "      <td>COGEXP5165</td>\n",
       "      <td>6+ years  of experience in Software and/or Avi...</td>\n",
       "      <td>Experience</td>\n",
       "      <td>COGEXP5165 6+ years  of experience in Software...</td>\n",
       "    </tr>\n",
       "    <tr>\n",
       "      <th>42337</th>\n",
       "      <td>UAESSK35821</td>\n",
       "      <td>his is a dummy block of text And this is repre...</td>\n",
       "      <td>SoftSkill</td>\n",
       "      <td>UAESSK35821 his is a dummy block of text And t...</td>\n",
       "    </tr>\n",
       "    <tr>\n",
       "      <th>...</th>\n",
       "      <td>...</td>\n",
       "      <td>...</td>\n",
       "      <td>...</td>\n",
       "      <td>...</td>\n",
       "    </tr>\n",
       "    <tr>\n",
       "      <th>19987</th>\n",
       "      <td>INDREQ22531</td>\n",
       "      <td>Ability to operate  in a highly matrixed envir...</td>\n",
       "      <td>Requirement</td>\n",
       "      <td>INDREQ22531 Ability to operate  in a highly ma...</td>\n",
       "    </tr>\n",
       "    <tr>\n",
       "      <th>36143</th>\n",
       "      <td>UAEEXP30491</td>\n",
       "      <td>3 + years  of Product Owner, Product Manager e...</td>\n",
       "      <td>Experience</td>\n",
       "      <td>UAEEXP30491 3 + years  of Product Owner, Produ...</td>\n",
       "    </tr>\n",
       "    <tr>\n",
       "      <th>19828</th>\n",
       "      <td>INDRES9786</td>\n",
       "      <td>Should be familiar with using various  Configu...</td>\n",
       "      <td>Responsibility</td>\n",
       "      <td>INDRES9786 Should be familiar with using vario...</td>\n",
       "    </tr>\n",
       "    <tr>\n",
       "      <th>34888</th>\n",
       "      <td>PHEEXP38598</td>\n",
       "      <td>5 + Years  in Software Development specific to...</td>\n",
       "      <td>Experience</td>\n",
       "      <td>PHEEXP38598 5 + Years  in Software Development...</td>\n",
       "    </tr>\n",
       "    <tr>\n",
       "      <th>37793</th>\n",
       "      <td>INDREQ32958</td>\n",
       "      <td>Demonstrated ability to work collaboratively i...</td>\n",
       "      <td>Requirement</td>\n",
       "      <td>INDREQ32958 Demonstrated ability to work colla...</td>\n",
       "    </tr>\n",
       "  </tbody>\n",
       "</table>\n",
       "<p>11800 rows × 4 columns</p>\n",
       "</div>"
      ],
      "text/plain": [
       "       Sentence_id                                       New_Sentence  \\\n",
       "22290  GEREXP18399  Minimum 12 years experience selling similar Se...   \n",
       "49363  PHERES14671        Reporting of all testing related  findings.   \n",
       "58695  COGSSK18562              Cyber design at the  component level.   \n",
       "58783   COGEXP5165  6+ years  of experience in Software and/or Avi...   \n",
       "42337  UAESSK35821  his is a dummy block of text And this is repre...   \n",
       "...            ...                                                ...   \n",
       "19987  INDREQ22531  Ability to operate  in a highly matrixed envir...   \n",
       "36143  UAEEXP30491  3 + years  of Product Owner, Product Manager e...   \n",
       "19828   INDRES9786  Should be familiar with using various  Configu...   \n",
       "34888  PHEEXP38598  5 + Years  in Software Development specific to...   \n",
       "37793  INDREQ32958  Demonstrated ability to work collaboratively i...   \n",
       "\n",
       "                 Type                                   CombinedSentence  \n",
       "22290      Experience  GEREXP18399 Minimum 12 years experience sellin...  \n",
       "49363  Responsibility  PHERES14671 Reporting of all testing related  ...  \n",
       "58695       SoftSkill  COGSSK18562 Cyber design at the  component level.  \n",
       "58783      Experience  COGEXP5165 6+ years  of experience in Software...  \n",
       "42337       SoftSkill  UAESSK35821 his is a dummy block of text And t...  \n",
       "...               ...                                                ...  \n",
       "19987     Requirement  INDREQ22531 Ability to operate  in a highly ma...  \n",
       "36143      Experience  UAEEXP30491 3 + years  of Product Owner, Produ...  \n",
       "19828  Responsibility  INDRES9786 Should be familiar with using vario...  \n",
       "34888      Experience  PHEEXP38598 5 + Years  in Software Development...  \n",
       "37793     Requirement  INDREQ32958 Demonstrated ability to work colla...  \n",
       "\n",
       "[11800 rows x 4 columns]"
      ]
     },
     "execution_count": 139,
     "metadata": {},
     "output_type": "execute_result"
    }
   ],
   "source": [
    "dev_set"
   ]
  },
  {
   "cell_type": "code",
   "execution_count": 140,
   "id": "0b138244",
   "metadata": {},
   "outputs": [],
   "source": [
    "type=[]\n",
    "for a in trainingdataset['Type']:\n",
    "    if a not in type:\n",
    "        type.append(a)"
   ]
  },
  {
   "cell_type": "code",
   "execution_count": 141,
   "id": "58f36544",
   "metadata": {},
   "outputs": [
    {
     "name": "stdout",
     "output_type": "stream",
     "text": [
      "[1] SoftSkill\n",
      "[2] Skill\n",
      "[3] Education\n",
      "[4] Requirement\n",
      "[5] Responsibility\n",
      "[6] Experience\n"
     ]
    }
   ],
   "source": [
    "l=1\n",
    "for m in type:\n",
    "    print([l],m)\n",
    "    l+=1"
   ]
  },
  {
   "cell_type": "code",
   "execution_count": 142,
   "id": "8c8af84a",
   "metadata": {},
   "outputs": [
    {
     "data": {
      "image/png": "[encoded data removed]",
      "text/plain": [
       "<Figure size 1440x720 with 1 Axes>"
      ]
     },
     "metadata": {},
     "output_type": "display_data"
    }
   ],
   "source": [
    "plt.figure(figsize=(20,10))\n",
    "trainingdataset['Type'].value_counts().apply(np.log).plot(kind='pie',autopct='%1.1f%%')\n",
    "plt.show()"
   ]
  },
  {
   "cell_type": "code",
   "execution_count": 143,
   "id": "b28aa0d1",
   "metadata": {},
   "outputs": [
    {
     "data": {
      "text/plain": [
       "Counter({'SoftSkill': 4648,\n",
       "         'Skill': 3434,\n",
       "         'Education': 2287,\n",
       "         'Requirement': 6924,\n",
       "         'Responsibility': 7654,\n",
       "         'Experience': 4554})"
      ]
     },
     "execution_count": 143,
     "metadata": {},
     "output_type": "execute_result"
    }
   ],
   "source": [
    "A=trainingdataset[\"Type\"].values\n",
    "Counter(A)"
   ]
  },
  {
   "cell_type": "code",
   "execution_count": 144,
   "id": "571d7370",
   "metadata": {},
   "outputs": [
    {
     "data": {
      "text/plain": [
       "29501"
      ]
     },
     "execution_count": 144,
     "metadata": {},
     "output_type": "execute_result"
    }
   ],
   "source": [
    "A=trainingdataset[\"Type\"].value_counts()\n",
    "count=pd.DataFrame(A)\n",
    "count['Type'].values.sum()"
   ]
  },
  {
   "cell_type": "code",
   "execution_count": 145,
   "id": "b61927bb",
   "metadata": {},
   "outputs": [],
   "source": [
    "StopWords = nltk.corpus.stopwords.words('english')"
   ]
  },
  {
   "cell_type": "code",
   "execution_count": 146,
   "id": "e8013197",
   "metadata": {},
   "outputs": [],
   "source": [
    "import re\n",
    "alist=\"\"; counteachword = {}; characteristics=[]; listofthewords=[]\n",
    "combinedsentence = str(newdata['CombinedSentence'])\n",
    "nonalphanumeric=re.sub(r'[^w'+alist+']', ' ',combinedsentence)\n",
    "for ch in range(ord('a'), ord('z')+1):\n",
    "      characteristics.append(chr(ch))\n",
    "for cha in range(ord('A'), ord('Z')+1):\n",
    "      characteristics.append(chr(cha))\n",
    "for G in type:\n",
    "    for i in trainingdataset.query('Type==@G')['CombinedSentence']:\n",
    "        C=word_tokenize(str(i))\n",
    "        for j in C:\n",
    "            if j not in StopWords and j not in nonalphanumeric and j not in characteristics and len(j)>=3:\n",
    "                if j[0] in nonalphanumeric and j[-1] in nonalphanumeric:\n",
    "                    listofthewords.append(j[1:-1].lower())\n",
    "                elif j[0] in nonalphanumeric and j[-1] not in nonalphanumeric:\n",
    "                    listofthewords.append(j[1:].lower())\n",
    "                elif j[-1] in nonalphanumeric and j[0] not in nonalphanumeric:\n",
    "                    listofthewords.append(j[:-1].lower())\n",
    "                else:\n",
    "                    listofthewords.append(j.lower())\n",
    "    counteachword[G]=Counter(listofthewords)"
   ]
  },
  {
   "cell_type": "code",
   "execution_count": 147,
   "id": "310b4e5d",
   "metadata": {
    "scrolled": true
   },
   "outputs": [
    {
     "data": {
      "text/html": [
       "<div>\n",
       "<style scoped>\n",
       "    .dataframe tbody tr th:only-of-type {\n",
       "        vertical-align: middle;\n",
       "    }\n",
       "\n",
       "    .dataframe tbody tr th {\n",
       "        vertical-align: top;\n",
       "    }\n",
       "\n",
       "    .dataframe thead th {\n",
       "        text-align: right;\n",
       "    }\n",
       "</style>\n",
       "<table border=\"1\" class=\"dataframe\">\n",
       "  <thead>\n",
       "    <tr style=\"text-align: right;\">\n",
       "      <th></th>\n",
       "      <th>SoftSkill</th>\n",
       "      <th>Skill</th>\n",
       "      <th>Education</th>\n",
       "      <th>Requirement</th>\n",
       "      <th>Responsibility</th>\n",
       "      <th>Experience</th>\n",
       "    </tr>\n",
       "  </thead>\n",
       "  <tbody>\n",
       "    <tr>\n",
       "      <th>uaessk9337</th>\n",
       "      <td>1.0</td>\n",
       "      <td>1.0</td>\n",
       "      <td>1.0</td>\n",
       "      <td>1.0</td>\n",
       "      <td>1.0</td>\n",
       "      <td>1</td>\n",
       "    </tr>\n",
       "    <tr>\n",
       "      <th>comunicaxe7xe3o</th>\n",
       "      <td>2.0</td>\n",
       "      <td>2.0</td>\n",
       "      <td>2.0</td>\n",
       "      <td>2.0</td>\n",
       "      <td>2.0</td>\n",
       "      <td>2</td>\n",
       "    </tr>\n",
       "    <tr>\n",
       "      <th>clara</th>\n",
       "      <td>1.0</td>\n",
       "      <td>1.0</td>\n",
       "      <td>1.0</td>\n",
       "      <td>1.0</td>\n",
       "      <td>1.0</td>\n",
       "      <td>1</td>\n",
       "    </tr>\n",
       "    <tr>\n",
       "      <th>falada</th>\n",
       "      <td>1.0</td>\n",
       "      <td>1.0</td>\n",
       "      <td>1.0</td>\n",
       "      <td>1.0</td>\n",
       "      <td>1.0</td>\n",
       "      <td>1</td>\n",
       "    </tr>\n",
       "    <tr>\n",
       "      <th>escrita</th>\n",
       "      <td>1.0</td>\n",
       "      <td>1.0</td>\n",
       "      <td>1.0</td>\n",
       "      <td>1.0</td>\n",
       "      <td>1.0</td>\n",
       "      <td>1</td>\n",
       "    </tr>\n",
       "    <tr>\n",
       "      <th>...</th>\n",
       "      <td>...</td>\n",
       "      <td>...</td>\n",
       "      <td>...</td>\n",
       "      <td>...</td>\n",
       "      <td>...</td>\n",
       "      <td>...</td>\n",
       "    </tr>\n",
       "    <tr>\n",
       "      <th>gerexp17530</th>\n",
       "      <td>0.0</td>\n",
       "      <td>0.0</td>\n",
       "      <td>0.0</td>\n",
       "      <td>0.0</td>\n",
       "      <td>0.0</td>\n",
       "      <td>1</td>\n",
       "    </tr>\n",
       "    <tr>\n",
       "      <th>4years</th>\n",
       "      <td>0.0</td>\n",
       "      <td>0.0</td>\n",
       "      <td>0.0</td>\n",
       "      <td>0.0</td>\n",
       "      <td>0.0</td>\n",
       "      <td>1</td>\n",
       "    </tr>\n",
       "    <tr>\n",
       "      <th>uaeexp17916</th>\n",
       "      <td>0.0</td>\n",
       "      <td>0.0</td>\n",
       "      <td>0.0</td>\n",
       "      <td>0.0</td>\n",
       "      <td>0.0</td>\n",
       "      <td>1</td>\n",
       "    </tr>\n",
       "    <tr>\n",
       "      <th>hld</th>\n",
       "      <td>0.0</td>\n",
       "      <td>0.0</td>\n",
       "      <td>0.0</td>\n",
       "      <td>0.0</td>\n",
       "      <td>0.0</td>\n",
       "      <td>1</td>\n",
       "    </tr>\n",
       "    <tr>\n",
       "      <th>uaeexp32743</th>\n",
       "      <td>0.0</td>\n",
       "      <td>0.0</td>\n",
       "      <td>0.0</td>\n",
       "      <td>0.0</td>\n",
       "      <td>0.0</td>\n",
       "      <td>1</td>\n",
       "    </tr>\n",
       "  </tbody>\n",
       "</table>\n",
       "<p>47932 rows × 6 columns</p>\n",
       "</div>"
      ],
      "text/plain": [
       "                 SoftSkill  Skill  Education  Requirement  Responsibility  \\\n",
       "uaessk9337             1.0    1.0        1.0          1.0             1.0   \n",
       "comunicaxe7xe3o        2.0    2.0        2.0          2.0             2.0   \n",
       "clara                  1.0    1.0        1.0          1.0             1.0   \n",
       "falada                 1.0    1.0        1.0          1.0             1.0   \n",
       "escrita                1.0    1.0        1.0          1.0             1.0   \n",
       "...                    ...    ...        ...          ...             ...   \n",
       "gerexp17530            0.0    0.0        0.0          0.0             0.0   \n",
       "4years                 0.0    0.0        0.0          0.0             0.0   \n",
       "uaeexp17916            0.0    0.0        0.0          0.0             0.0   \n",
       "hld                    0.0    0.0        0.0          0.0             0.0   \n",
       "uaeexp32743            0.0    0.0        0.0          0.0             0.0   \n",
       "\n",
       "                 Experience  \n",
       "uaessk9337                1  \n",
       "comunicaxe7xe3o           2  \n",
       "clara                     1  \n",
       "falada                    1  \n",
       "escrita                   1  \n",
       "...                     ...  \n",
       "gerexp17530               1  \n",
       "4years                    1  \n",
       "uaeexp17916               1  \n",
       "hld                       1  \n",
       "uaeexp32743               1  \n",
       "\n",
       "[47932 rows x 6 columns]"
      ]
     },
     "execution_count": 147,
     "metadata": {},
     "output_type": "execute_result"
    }
   ],
   "source": [
    "counteachword = pd.DataFrame(counteachword)\n",
    "counteachword = counteachword.fillna(0)\n",
    "counteachword"
   ]
  },
  {
   "cell_type": "code",
   "execution_count": 148,
   "id": "48438652",
   "metadata": {},
   "outputs": [
    {
     "name": "stdout",
     "output_type": "stream",
     "text": [
      "                 SoftSkill  Skill  Education  Requirement  Responsibility  \\\n",
      "uaessk9337             1.0    1.0        1.0          1.0             1.0   \n",
      "comunicaxe7xe3o        2.0    2.0        2.0          2.0             2.0   \n",
      "clara                  1.0    1.0        1.0          1.0             1.0   \n",
      "falada                 1.0    1.0        1.0          1.0             1.0   \n",
      "escrita                1.0    1.0        1.0          1.0             1.0   \n",
      "...                    ...    ...        ...          ...             ...   \n",
      "gerexp17530            0.0    0.0        0.0          0.0             0.0   \n",
      "4years                 0.0    0.0        0.0          0.0             0.0   \n",
      "uaeexp17916            0.0    0.0        0.0          0.0             0.0   \n",
      "hld                    0.0    0.0        0.0          0.0             0.0   \n",
      "uaeexp32743            0.0    0.0        0.0          0.0             0.0   \n",
      "\n",
      "                 Experience  RowSum  \n",
      "uaessk9337                1     6.0  \n",
      "comunicaxe7xe3o           2    12.0  \n",
      "clara                     1     6.0  \n",
      "falada                    1     6.0  \n",
      "escrita                   1     6.0  \n",
      "...                     ...     ...  \n",
      "gerexp17530               1     1.0  \n",
      "4years                    1     1.0  \n",
      "uaeexp17916               1     1.0  \n",
      "hld                       1     1.0  \n",
      "uaeexp32743               1     1.0  \n",
      "\n",
      "[47932 rows x 7 columns]\n"
     ]
    }
   ],
   "source": [
    "counteachword=counteachword.eval('RowSum= Responsibility + Requirement + Skill + SoftSkill + Education + Experience')\n",
    "print(counteachword)"
   ]
  },
  {
   "cell_type": "code",
   "execution_count": 149,
   "id": "f107212d",
   "metadata": {
    "scrolled": true
   },
   "outputs": [
    {
     "data": {
      "text/html": [
       "<div>\n",
       "<style scoped>\n",
       "    .dataframe tbody tr th:only-of-type {\n",
       "        vertical-align: middle;\n",
       "    }\n",
       "\n",
       "    .dataframe tbody tr th {\n",
       "        vertical-align: top;\n",
       "    }\n",
       "\n",
       "    .dataframe thead th {\n",
       "        text-align: right;\n",
       "    }\n",
       "</style>\n",
       "<table border=\"1\" class=\"dataframe\">\n",
       "  <thead>\n",
       "    <tr style=\"text-align: right;\">\n",
       "      <th></th>\n",
       "      <th>SoftSkill</th>\n",
       "      <th>Skill</th>\n",
       "      <th>Education</th>\n",
       "      <th>Requirement</th>\n",
       "      <th>Responsibility</th>\n",
       "      <th>Experience</th>\n",
       "      <th>RowSum</th>\n",
       "    </tr>\n",
       "  </thead>\n",
       "  <tbody>\n",
       "    <tr>\n",
       "      <th>uaessk9337</th>\n",
       "      <td>1.0</td>\n",
       "      <td>1.0</td>\n",
       "      <td>1.0</td>\n",
       "      <td>1.0</td>\n",
       "      <td>1.0</td>\n",
       "      <td>1.0</td>\n",
       "      <td>6.0</td>\n",
       "    </tr>\n",
       "    <tr>\n",
       "      <th>comunicaxe7xe3o</th>\n",
       "      <td>2.0</td>\n",
       "      <td>2.0</td>\n",
       "      <td>2.0</td>\n",
       "      <td>2.0</td>\n",
       "      <td>2.0</td>\n",
       "      <td>2.0</td>\n",
       "      <td>12.0</td>\n",
       "    </tr>\n",
       "    <tr>\n",
       "      <th>clara</th>\n",
       "      <td>1.0</td>\n",
       "      <td>1.0</td>\n",
       "      <td>1.0</td>\n",
       "      <td>1.0</td>\n",
       "      <td>1.0</td>\n",
       "      <td>1.0</td>\n",
       "      <td>6.0</td>\n",
       "    </tr>\n",
       "    <tr>\n",
       "      <th>falada</th>\n",
       "      <td>1.0</td>\n",
       "      <td>1.0</td>\n",
       "      <td>1.0</td>\n",
       "      <td>1.0</td>\n",
       "      <td>1.0</td>\n",
       "      <td>1.0</td>\n",
       "      <td>6.0</td>\n",
       "    </tr>\n",
       "    <tr>\n",
       "      <th>escrita</th>\n",
       "      <td>1.0</td>\n",
       "      <td>1.0</td>\n",
       "      <td>1.0</td>\n",
       "      <td>1.0</td>\n",
       "      <td>1.0</td>\n",
       "      <td>1.0</td>\n",
       "      <td>6.0</td>\n",
       "    </tr>\n",
       "    <tr>\n",
       "      <th>...</th>\n",
       "      <td>...</td>\n",
       "      <td>...</td>\n",
       "      <td>...</td>\n",
       "      <td>...</td>\n",
       "      <td>...</td>\n",
       "      <td>...</td>\n",
       "      <td>...</td>\n",
       "    </tr>\n",
       "    <tr>\n",
       "      <th>4years</th>\n",
       "      <td>0.0</td>\n",
       "      <td>0.0</td>\n",
       "      <td>0.0</td>\n",
       "      <td>0.0</td>\n",
       "      <td>0.0</td>\n",
       "      <td>1.0</td>\n",
       "      <td>1.0</td>\n",
       "    </tr>\n",
       "    <tr>\n",
       "      <th>uaeexp17916</th>\n",
       "      <td>0.0</td>\n",
       "      <td>0.0</td>\n",
       "      <td>0.0</td>\n",
       "      <td>0.0</td>\n",
       "      <td>0.0</td>\n",
       "      <td>1.0</td>\n",
       "      <td>1.0</td>\n",
       "    </tr>\n",
       "    <tr>\n",
       "      <th>hld</th>\n",
       "      <td>0.0</td>\n",
       "      <td>0.0</td>\n",
       "      <td>0.0</td>\n",
       "      <td>0.0</td>\n",
       "      <td>0.0</td>\n",
       "      <td>1.0</td>\n",
       "      <td>1.0</td>\n",
       "    </tr>\n",
       "    <tr>\n",
       "      <th>uaeexp32743</th>\n",
       "      <td>0.0</td>\n",
       "      <td>0.0</td>\n",
       "      <td>0.0</td>\n",
       "      <td>0.0</td>\n",
       "      <td>0.0</td>\n",
       "      <td>1.0</td>\n",
       "      <td>1.0</td>\n",
       "    </tr>\n",
       "    <tr>\n",
       "      <th>NumberofWords</th>\n",
       "      <td>35559.0</td>\n",
       "      <td>64029.0</td>\n",
       "      <td>82813.0</td>\n",
       "      <td>146187.0</td>\n",
       "      <td>236734.0</td>\n",
       "      <td>283813.0</td>\n",
       "      <td>849135.0</td>\n",
       "    </tr>\n",
       "  </tbody>\n",
       "</table>\n",
       "<p>47933 rows × 7 columns</p>\n",
       "</div>"
      ],
      "text/plain": [
       "                 SoftSkill    Skill  Education  Requirement  Responsibility  \\\n",
       "uaessk9337             1.0      1.0        1.0          1.0             1.0   \n",
       "comunicaxe7xe3o        2.0      2.0        2.0          2.0             2.0   \n",
       "clara                  1.0      1.0        1.0          1.0             1.0   \n",
       "falada                 1.0      1.0        1.0          1.0             1.0   \n",
       "escrita                1.0      1.0        1.0          1.0             1.0   \n",
       "...                    ...      ...        ...          ...             ...   \n",
       "4years                 0.0      0.0        0.0          0.0             0.0   \n",
       "uaeexp17916            0.0      0.0        0.0          0.0             0.0   \n",
       "hld                    0.0      0.0        0.0          0.0             0.0   \n",
       "uaeexp32743            0.0      0.0        0.0          0.0             0.0   \n",
       "NumberofWords      35559.0  64029.0    82813.0     146187.0        236734.0   \n",
       "\n",
       "                 Experience    RowSum  \n",
       "uaessk9337              1.0       6.0  \n",
       "comunicaxe7xe3o         2.0      12.0  \n",
       "clara                   1.0       6.0  \n",
       "falada                  1.0       6.0  \n",
       "escrita                 1.0       6.0  \n",
       "...                     ...       ...  \n",
       "4years                  1.0       1.0  \n",
       "uaeexp17916             1.0       1.0  \n",
       "hld                     1.0       1.0  \n",
       "uaeexp32743             1.0       1.0  \n",
       "NumberofWords      283813.0  849135.0  \n",
       "\n",
       "[47933 rows x 7 columns]"
      ]
     },
     "execution_count": 149,
     "metadata": {},
     "output_type": "execute_result"
    }
   ],
   "source": [
    "NoofWords=counteachword.sum()\n",
    "counteachword.loc['NumberofWords'] = NoofWords\n",
    "counteachword"
   ]
  },
  {
   "cell_type": "code",
   "execution_count": 150,
   "id": "6fc5b09a",
   "metadata": {},
   "outputs": [
    {
     "data": {
      "text/plain": [
       "0.0009015056498672178"
      ]
     },
     "execution_count": 150,
     "metadata": {},
     "output_type": "execute_result"
    }
   ],
   "source": [
    "data=counteachword.loc['the','RowSum']\n",
    "data/counteachword['RowSum'].values.sum()"
   ]
  },
  {
   "cell_type": "code",
   "execution_count": 151,
   "id": "9e2bcd58",
   "metadata": {},
   "outputs": [
    {
     "data": {
      "text/plain": [
       "0.002166989110140495"
      ]
     },
     "execution_count": 151,
     "metadata": {},
     "output_type": "execute_result"
    }
   ],
   "source": [
    "def condpro(probabilityofword, responsibility, smoothing, data):\n",
    "    addition= smoothing*len(data[responsibility])\n",
    "    denominator= data.loc['NumberofWords',responsibility]+ addition\n",
    "    if probabilityofword in data.index and responsibility in data.columns:\n",
    "        numerator= data.loc[probabilityofword, responsibility]+smoothing\n",
    "        return(numerator/denominator)\n",
    "    elif responsibility in data.columns and probabilityofword not in data.index:\n",
    "        numerator= smoothing\n",
    "        return(numerator/denominator)\n",
    "\n",
    "condpro('the', 'Responsibility', 0, counteachword)"
   ]
  },
  {
   "cell_type": "code",
   "execution_count": 152,
   "id": "3d73c4e8",
   "metadata": {},
   "outputs": [
    {
     "data": {
      "text/plain": [
       "0.0010307829264864358"
      ]
     },
     "execution_count": 152,
     "metadata": {},
     "output_type": "execute_result"
    }
   ],
   "source": [
    "condpro('the','Skill',0,counteachword)"
   ]
  },
  {
   "cell_type": "code",
   "execution_count": 153,
   "id": "fc9cf7ff",
   "metadata": {},
   "outputs": [
    {
     "data": {
      "text/plain": [
       "0.0020248038471273096"
      ]
     },
     "execution_count": 153,
     "metadata": {},
     "output_type": "execute_result"
    }
   ],
   "source": [
    "condpro('the','Requirement',0,counteachword)"
   ]
  },
  {
   "cell_type": "code",
   "execution_count": 154,
   "id": "97ca4cb8",
   "metadata": {},
   "outputs": [
    {
     "data": {
      "text/plain": [
       "0.0009901827007836935"
      ]
     },
     "execution_count": 154,
     "metadata": {},
     "output_type": "execute_result"
    }
   ],
   "source": [
    "condpro('the','Education',0,counteachword)"
   ]
  },
  {
   "cell_type": "code",
   "execution_count": 155,
   "id": "87f7ae62",
   "metadata": {},
   "outputs": [
    {
     "data": {
      "text/plain": [
       "0.001863903344808025"
      ]
     },
     "execution_count": 155,
     "metadata": {},
     "output_type": "execute_result"
    }
   ],
   "source": [
    "condpro('the','Experience',0,counteachword)"
   ]
  },
  {
   "cell_type": "code",
   "execution_count": 156,
   "id": "ccf37c21",
   "metadata": {},
   "outputs": [
    {
     "data": {
      "text/plain": [
       "0.0012655024044545685"
      ]
     },
     "execution_count": 156,
     "metadata": {},
     "output_type": "execute_result"
    }
   ],
   "source": [
    "condpro('the','SoftSkill',0,counteachword)"
   ]
  },
  {
   "cell_type": "code",
   "execution_count": 157,
   "id": "29c06669",
   "metadata": {},
   "outputs": [
    {
     "data": {
      "text/plain": [
       "3.5128764486224256e-06"
      ]
     },
     "execution_count": 157,
     "metadata": {},
     "output_type": "execute_result"
    }
   ],
   "source": [
    "condpro('shfb','Responsibility',1,counteachword)"
   ]
  },
  {
   "cell_type": "code",
   "execution_count": 158,
   "id": "c2f053cd",
   "metadata": {},
   "outputs": [
    {
     "data": {
      "text/plain": [
       "8.93160179346564e-06"
      ]
     },
     "execution_count": 158,
     "metadata": {},
     "output_type": "execute_result"
    }
   ],
   "source": [
    "condpro('shfb','Skill',1,counteachword)"
   ]
  },
  {
   "cell_type": "code",
   "execution_count": 159,
   "id": "889f7b16",
   "metadata": {},
   "outputs": [
    {
     "data": {
      "text/plain": [
       "5.1514527096641255e-06"
      ]
     },
     "execution_count": 159,
     "metadata": {},
     "output_type": "execute_result"
    }
   ],
   "source": [
    "condpro('shfb','Requirement',1,counteachword)"
   ]
  },
  {
   "cell_type": "code",
   "execution_count": 160,
   "id": "5d2bb5e5",
   "metadata": {},
   "outputs": [
    {
     "data": {
      "text/plain": [
       "7.648417542410475e-06"
      ]
     },
     "execution_count": 160,
     "metadata": {},
     "output_type": "execute_result"
    }
   ],
   "source": [
    "condpro('shfb','Education',1,counteachword)"
   ]
  },
  {
   "cell_type": "code",
   "execution_count": 161,
   "id": "012c284b",
   "metadata": {},
   "outputs": [
    {
     "data": {
      "text/plain": [
       "3.0143543554406083e-06"
      ]
     },
     "execution_count": 161,
     "metadata": {},
     "output_type": "execute_result"
    }
   ],
   "source": [
    "condpro('shfb','Experience',1,counteachword)"
   ]
  },
  {
   "cell_type": "code",
   "execution_count": 162,
   "id": "f0ffea04",
   "metadata": {},
   "outputs": [
    {
     "data": {
      "text/plain": [
       "1.1977195419920472e-05"
      ]
     },
     "execution_count": 162,
     "metadata": {},
     "output_type": "execute_result"
    }
   ],
   "source": [
    "condpro('shfb','SoftSkill',1,counteachword)"
   ]
  },
  {
   "cell_type": "code",
   "execution_count": 163,
   "id": "6c2a706d",
   "metadata": {},
   "outputs": [],
   "source": [
    "def cateog(A):\n",
    "    categ=counteachword.loc['NumberofWords',A]/counteachword.loc['NumberofWords','RowSum']\n",
    "    return categ"
   ]
  },
  {
   "cell_type": "code",
   "execution_count": 164,
   "id": "318d78ae",
   "metadata": {},
   "outputs": [
    {
     "data": {
      "text/html": [
       "<div>\n",
       "<style scoped>\n",
       "    .dataframe tbody tr th:only-of-type {\n",
       "        vertical-align: middle;\n",
       "    }\n",
       "\n",
       "    .dataframe tbody tr th {\n",
       "        vertical-align: top;\n",
       "    }\n",
       "\n",
       "    .dataframe thead th {\n",
       "        text-align: right;\n",
       "    }\n",
       "</style>\n",
       "<table border=\"1\" class=\"dataframe\">\n",
       "  <thead>\n",
       "    <tr style=\"text-align: right;\">\n",
       "      <th></th>\n",
       "      <th>SoftSkill</th>\n",
       "      <th>Skill</th>\n",
       "      <th>Education</th>\n",
       "      <th>Requirement</th>\n",
       "      <th>Responsibility</th>\n",
       "      <th>Experience</th>\n",
       "    </tr>\n",
       "  </thead>\n",
       "  <tbody>\n",
       "    <tr>\n",
       "      <th>uaessk9337</th>\n",
       "      <td>0.000024</td>\n",
       "      <td>0.000018</td>\n",
       "      <td>0.000015</td>\n",
       "      <td>0.000010</td>\n",
       "      <td>0.000007</td>\n",
       "      <td>0.000006</td>\n",
       "    </tr>\n",
       "    <tr>\n",
       "      <th>comunicaxe7xe3o</th>\n",
       "      <td>0.000036</td>\n",
       "      <td>0.000027</td>\n",
       "      <td>0.000023</td>\n",
       "      <td>0.000015</td>\n",
       "      <td>0.000011</td>\n",
       "      <td>0.000009</td>\n",
       "    </tr>\n",
       "    <tr>\n",
       "      <th>clara</th>\n",
       "      <td>0.000024</td>\n",
       "      <td>0.000018</td>\n",
       "      <td>0.000015</td>\n",
       "      <td>0.000010</td>\n",
       "      <td>0.000007</td>\n",
       "      <td>0.000006</td>\n",
       "    </tr>\n",
       "    <tr>\n",
       "      <th>falada</th>\n",
       "      <td>0.000024</td>\n",
       "      <td>0.000018</td>\n",
       "      <td>0.000015</td>\n",
       "      <td>0.000010</td>\n",
       "      <td>0.000007</td>\n",
       "      <td>0.000006</td>\n",
       "    </tr>\n",
       "    <tr>\n",
       "      <th>escrita</th>\n",
       "      <td>0.000024</td>\n",
       "      <td>0.000018</td>\n",
       "      <td>0.000015</td>\n",
       "      <td>0.000010</td>\n",
       "      <td>0.000007</td>\n",
       "      <td>0.000006</td>\n",
       "    </tr>\n",
       "    <tr>\n",
       "      <th>...</th>\n",
       "      <td>...</td>\n",
       "      <td>...</td>\n",
       "      <td>...</td>\n",
       "      <td>...</td>\n",
       "      <td>...</td>\n",
       "      <td>...</td>\n",
       "    </tr>\n",
       "    <tr>\n",
       "      <th>gerexp17530</th>\n",
       "      <td>0.000012</td>\n",
       "      <td>0.000009</td>\n",
       "      <td>0.000008</td>\n",
       "      <td>0.000005</td>\n",
       "      <td>0.000004</td>\n",
       "      <td>0.000006</td>\n",
       "    </tr>\n",
       "    <tr>\n",
       "      <th>4years</th>\n",
       "      <td>0.000012</td>\n",
       "      <td>0.000009</td>\n",
       "      <td>0.000008</td>\n",
       "      <td>0.000005</td>\n",
       "      <td>0.000004</td>\n",
       "      <td>0.000006</td>\n",
       "    </tr>\n",
       "    <tr>\n",
       "      <th>uaeexp17916</th>\n",
       "      <td>0.000012</td>\n",
       "      <td>0.000009</td>\n",
       "      <td>0.000008</td>\n",
       "      <td>0.000005</td>\n",
       "      <td>0.000004</td>\n",
       "      <td>0.000006</td>\n",
       "    </tr>\n",
       "    <tr>\n",
       "      <th>hld</th>\n",
       "      <td>0.000012</td>\n",
       "      <td>0.000009</td>\n",
       "      <td>0.000008</td>\n",
       "      <td>0.000005</td>\n",
       "      <td>0.000004</td>\n",
       "      <td>0.000006</td>\n",
       "    </tr>\n",
       "    <tr>\n",
       "      <th>uaeexp32743</th>\n",
       "      <td>0.000012</td>\n",
       "      <td>0.000009</td>\n",
       "      <td>0.000008</td>\n",
       "      <td>0.000005</td>\n",
       "      <td>0.000004</td>\n",
       "      <td>0.000006</td>\n",
       "    </tr>\n",
       "  </tbody>\n",
       "</table>\n",
       "<p>47932 rows × 6 columns</p>\n",
       "</div>"
      ],
      "text/plain": [
       "                 SoftSkill     Skill  Education  Requirement  Responsibility  \\\n",
       "uaessk9337        0.000024  0.000018   0.000015     0.000010        0.000007   \n",
       "comunicaxe7xe3o   0.000036  0.000027   0.000023     0.000015        0.000011   \n",
       "clara             0.000024  0.000018   0.000015     0.000010        0.000007   \n",
       "falada            0.000024  0.000018   0.000015     0.000010        0.000007   \n",
       "escrita           0.000024  0.000018   0.000015     0.000010        0.000007   \n",
       "...                    ...       ...        ...          ...             ...   \n",
       "gerexp17530       0.000012  0.000009   0.000008     0.000005        0.000004   \n",
       "4years            0.000012  0.000009   0.000008     0.000005        0.000004   \n",
       "uaeexp17916       0.000012  0.000009   0.000008     0.000005        0.000004   \n",
       "hld               0.000012  0.000009   0.000008     0.000005        0.000004   \n",
       "uaeexp32743       0.000012  0.000009   0.000008     0.000005        0.000004   \n",
       "\n",
       "                 Experience  \n",
       "uaessk9337         0.000006  \n",
       "comunicaxe7xe3o    0.000009  \n",
       "clara              0.000006  \n",
       "falada             0.000006  \n",
       "escrita            0.000006  \n",
       "...                     ...  \n",
       "gerexp17530        0.000006  \n",
       "4years             0.000006  \n",
       "uaeexp17916        0.000006  \n",
       "hld                0.000006  \n",
       "uaeexp32743        0.000006  \n",
       "\n",
       "[47932 rows x 6 columns]"
      ]
     },
     "execution_count": 164,
     "metadata": {},
     "output_type": "execute_result"
    }
   ],
   "source": [
    "probabilityofword= counteachword.iloc[:-1,:-1]\n",
    "\n",
    "for i in probabilityofword.index:\n",
    "    for j in probabilityofword.columns:\n",
    "        probabilityofword.loc[i,j]= condpro(i,j,1,counteachword)\n",
    "\n",
    "probabilityofword"
   ]
  },
  {
   "cell_type": "code",
   "execution_count": 165,
   "id": "30b5336f",
   "metadata": {},
   "outputs": [],
   "source": [
    "def NaiveBayes(category, word):\n",
    "    word= 'YOU MUST HAVEBachelors degree  in Engineering'\n",
    "    A_list=[]\n",
    "    for a in list(word.split(\" \")):\n",
    "        C=word_tokenize(a)\n",
    "        for j in C:\n",
    "            if j not in StopWords and j not in nonalphanumeric and j not in characteristics and len(j)>=3:\n",
    "                if j[0] in nonalphanumeric and j[-1] in nonalphanumeric:\n",
    "                    A_list.append(j[1:-1].lower())\n",
    "                elif j[0] in nonalphanumeric and j[-1] not in nonalphanumeric:\n",
    "                    A_list.append(j[1:].lower())\n",
    "                elif j[-1] in nonalphanumeric and j[0] not in nonalphanumeric:\n",
    "                    A_list.append(j[:-1].lower())\n",
    "                else:\n",
    "                    A_list.append(j.lower())\n",
    "    proba=1\n",
    "    for m in A_list:\n",
    "        proba=proba*condpro(m, category,0,counteachword)\n",
    "    numerator = proba*cateog(A)\n",
    "    denominator=0\n",
    "    for k in type:\n",
    "        crossproduct=1\n",
    "        for l in A_list:\n",
    "            crossproduct=crossproduct*condpro(l,k,0,counteachword)\n",
    "        crossproduct=crossproduct*cateog(A)\n",
    "        denominator=denominator+crossproduct\n",
    "        \n",
    "    return(numerator/denominator)"
   ]
  },
  {
   "cell_type": "code",
   "execution_count": 167,
   "id": "31871242",
   "metadata": {},
   "outputs": [
    {
     "name": "stdout",
     "output_type": "stream",
     "text": [
      "In the catergory ' SoftSkill ' the top 10 words are: ['skills' 'ability' 'communication' 'strong' 'excellent' 'ork' 'team'\n",
      " 'ritten' 'management' 'good']\n",
      "\n",
      "In the catergory ' Skill ' the top 10 words are: ['skills' 'experience' 'ability' 'strong' 'communication' 'knowledge'\n",
      " 'management' 'excellent' 'good' 'ork']\n",
      "\n",
      "In the catergory ' Education ' the top 10 words are: ['skills' 'experience' 'degree' 'ability' 'engineering' 'strong'\n",
      " 'management' 'communication' 'knowledge' 'business']\n",
      "\n",
      "In the catergory ' Requirement ' the top 10 words are: ['experience' 'ability' 'skills' 'degree' 'knowledge' 'engineering'\n",
      " 'strong' 'management' 'business' 'ork']\n",
      "\n",
      "In the catergory ' Responsibility ' the top 10 words are: ['experience' 'ability' 'skills' 'business' 'management' 'engineering'\n",
      " 'degree' 'knowledge' 'team' 'ork']\n",
      "\n",
      "In the catergory ' Experience ' the top 10 words are: ['experience' 'years' 'skills' 'ability' 'management' 'business'\n",
      " 'engineering' 'degree' 'knowledge' 'team']\n",
      "\n"
     ]
    }
   ],
   "source": [
    "for num in probabilityofword.columns:\n",
    "    print(\"In the catergory \\'\",num,\"\\' the top 10 words are:\",probabilityofword[num].nlargest(n=10).index.values)\n",
    "    print()"
   ]
  },
  {
   "cell_type": "markdown",
   "id": "dd8ffaca",
   "metadata": {},
   "source": [
    "# References:"
   ]
  },
  {
   "cell_type": "markdown",
   "id": "ab04ad17",
   "metadata": {},
   "source": [
    "1) https://stackoverflow.com/questions/46655202/probability-of-a-pandas-value\n",
    "2) https://stackoverflow.com/questions/33468976/pandas-conditional-probability-of-a-given-specific-b\n",
    "3) https://medium.com/@craxtarun/text-classification-using-naive-bayes-classifier-818885830f51\n",
    "4) https://problemsolvingwithpython.com/06-Plotting-with-Matplotlib/06.06-Bar-Charts-and-Pie-Charts/ \n",
    "5) https://stackoverflow.com/questions/55360559/check-number-of-stopwords-in-a-text-column-pandas"
   ]
  },
  {
   "cell_type": "code",
   "execution_count": null,
   "id": "d7671b02",
   "metadata": {},
   "outputs": [],
   "source": []
  }
 ],
 "metadata": {
  "kernelspec": {
   "display_name": "Python 3 (ipykernel)",
   "language": "python",
   "name": "python3"
  },
  "language_info": {
   "codemirror_mode": {
    "name": "ipython",
    "version": 3
   },
   "file_extension": ".py",
   "mimetype": "text/x-python",
   "name": "python",
   "nbconvert_exporter": "python",
   "pygments_lexer": "ipython3",
   "version": "3.9.7"
  }
 },
 "nbformat": 4,
 "nbformat_minor": 5
}
